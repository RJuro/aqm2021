{
  "nbformat": 4,
  "nbformat_minor": 0,
  "metadata": {
    "colab": {
      "name": "AQM 2021 - Ex1-stud.ipynb",
      "provenance": [],
      "authorship_tag": "ABX9TyOSNsr2huBGtYrJ/e7q/pp0",
      "include_colab_link": true
    },
    "kernelspec": {
      "name": "python3",
      "display_name": "Python 3"
    },
    "language_info": {
      "name": "python"
    }
  },
  "cells": [
    {
      "cell_type": "markdown",
      "metadata": {
        "id": "view-in-github",
        "colab_type": "text"
      },
      "source": [
        "<a href=\"https://colab.research.google.com/github/RJuro/aqm2021/blob/main/01_ex_AQM_2021_stud.ipynb\" target=\"_parent\"><img src=\"https://colab.research.google.com/assets/colab-badge.svg\" alt=\"Open In Colab\"/></a>"
      ]
    },
    {
      "cell_type": "markdown",
      "metadata": {
        "id": "1CeV09vEmrLW"
      },
      "source": [
        "# Sampling\n",
        "\n",
        "We will start with a well known dataset - AirBnb (from the statistics exam E2020).\n",
        "Here I just copy-paste first the loading and preprocessing bits. This includes:\n",
        "- removing outliers (remove everything over 99. percentile)\n",
        "- removing missing data\n",
        "- some cleaning up of the price-column and recoding into floats"
      ]
    },
    {
      "cell_type": "code",
      "metadata": {
        "id": "JWfQj4mOmVoE"
      },
      "source": [
        "# loading packages for the day\n",
        "import numpy as np\n",
        "import pandas as pd\n",
        "import seaborn as sns\n",
        "import matplotlib.pyplot as plt\n",
        "\n",
        "sns.set()\n",
        "\n",
        "# Indlæs data\n",
        "df = pd.read_csv('https://sds-aau.github.io/IntroStat/Data/airbnb.csv.gz', compression='gzip')\n",
        "\n",
        "#Drop variable alle host_ variable på nær host_id (den skal bruges til analyse)\n",
        "#Drop også \"neighbourhood\", \"city\", 'square_feet'\n",
        "\n",
        "# du kan bruge df.columns komando for nemmere copy-paste af variablenavne \n",
        "\n",
        "\n",
        "df.drop(['host_name', 'host_since', 'host_location',\n",
        "       'host_acceptance_rate', 'host_is_superhost', 'host_listings_count', 'neighbourhood', 'city','square_feet'], axis = 'columns', inplace=True)\n",
        "\n",
        "# Udsmid manglende værdier i variable hvor der mangler op til og med 103 observationer \n",
        "# dvs. variable med flere manglende observationer end 103 skal ikke renses for manglende observationer\n",
        "\n",
        "df.dropna(subset=['name', 'bathrooms', 'bedrooms', 'beds'], inplace=True)\n",
        "\n",
        "# Her omdannes \"price\" til en float (numerisk variabel) og får fjernet \"$\" og \",\" - det har vi gjort for jer.\n",
        "df.price = df.price.replace('[\\$,]', '', regex=True).astype(float)\n",
        "\n",
        "# Med udgangspunkt i \"price\", beskær datasættet til 99. percentil (95 inkl.)\n",
        "df = ..."
      ],
      "execution_count": 23,
      "outputs": []
    },
    {
      "cell_type": "markdown",
      "metadata": {
        "id": "2i04kcGicjCy"
      },
      "source": [
        "Let's look at some ways to visualize the distribution of the price"
      ]
    },
    {
      "cell_type": "code",
      "metadata": {
        "colab": {
          "base_uri": "https://localhost:8080/",
          "height": 386
        },
        "id": "4P2NELmyOYSc",
        "outputId": "152d0b4c-96f5-41ac-ae6f-56eff52043da"
      },
      "source": [
        "# histogram\n",
        "..."
      ],
      "execution_count": 3,
      "outputs": [
        {
          "output_type": "execute_result",
          "data": {
            "text/plain": [
              "<seaborn.axisgrid.FacetGrid at 0x7f2f1d2c4490>"
            ]
          },
          "metadata": {},
          "execution_count": 3
        },
        {
          "output_type": "display_data",
          "data": {
            "image/png": "[encoded data removed]",
            "text/plain": [
              "<Figure size 360x360 with 1 Axes>"
            ]
          },
          "metadata": {
            "needs_background": "light"
          }
        }
      ]
    },
    {
      "cell_type": "code",
      "metadata": {
        "colab": {
          "base_uri": "https://localhost:8080/",
          "height": 386
        },
        "id": "WmWTn0OwcokF",
        "outputId": "afdc2075-2bfe-44a0-e003-f2829a17fffe"
      },
      "source": [
        "# density plot\n",
        "..."
      ],
      "execution_count": 4,
      "outputs": [
        {
          "output_type": "execute_result",
          "data": {
            "text/plain": [
              "<seaborn.axisgrid.FacetGrid at 0x7f2f1e576ed0>"
            ]
          },
          "metadata": {},
          "execution_count": 4
        },
        {
          "output_type": "display_data",
          "data": {
            "image/png": "[encoded data removed]",
            "text/plain": [
              "<Figure size 360x360 with 1 Axes>"
            ]
          },
          "metadata": {
            "needs_background": "light"
          }
        }
      ]
    },
    {
      "cell_type": "code",
      "metadata": {
        "colab": {
          "base_uri": "https://localhost:8080/",
          "height": 386
        },
        "id": "_vmzxPo6csWY",
        "outputId": "21599446-8893-4129-950d-44cfd6b045e1"
      },
      "source": [
        "# empirical cumulative distribution function\n",
        "..."
      ],
      "execution_count": 5,
      "outputs": [
        {
          "output_type": "execute_result",
          "data": {
            "text/plain": [
              "<seaborn.axisgrid.FacetGrid at 0x7f2f1370f790>"
            ]
          },
          "metadata": {},
          "execution_count": 5
        },
        {
          "output_type": "display_data",
          "data": {
            "image/png": "[encoded data removed]",
            "text/plain": [
              "<Figure size 360x360 with 1 Axes>"
            ]
          },
          "metadata": {
            "needs_background": "light"
          }
        }
      ]
    },
    {
      "cell_type": "code",
      "metadata": {
        "colab": {
          "base_uri": "https://localhost:8080/"
        },
        "id": "su66BmSMOtur",
        "outputId": "0d382e98-d04c-4cc2-fa49-bdf4b9f0a6e8"
      },
      "source": [
        "# summary statistics\n",
        "..."
      ],
      "execution_count": 6,
      "outputs": [
        {
          "output_type": "execute_result",
          "data": {
            "text/plain": [
              "count    28064.000000\n",
              "mean       794.020382\n",
              "std        419.254039\n",
              "min          0.000000\n",
              "25%        498.000000\n",
              "50%        698.000000\n",
              "75%        990.000000\n",
              "max       3003.000000\n",
              "Name: price, dtype: float64"
            ]
          },
          "metadata": {},
          "execution_count": 6
        }
      ]
    },
    {
      "cell_type": "code",
      "metadata": {
        "colab": {
          "base_uri": "https://localhost:8080/"
        },
        "id": "S8ZDIhhjOnAN",
        "outputId": "fff28fa5-a39a-4a69-a5d4-97406da1a849"
      },
      "source": [
        "# taking a sample of 100 observations\n",
        "sample = ...\n",
        "sample.describe()"
      ],
      "execution_count": 7,
      "outputs": [
        {
          "output_type": "execute_result",
          "data": {
            "text/plain": [
              "count     100.00000\n",
              "mean      860.88000\n",
              "std       514.12085\n",
              "min       252.00000\n",
              "25%       551.00000\n",
              "50%       751.00000\n",
              "75%      1003.00000\n",
              "max      3003.00000\n",
              "Name: price, dtype: float64"
            ]
          },
          "metadata": {},
          "execution_count": 7
        }
      ]
    },
    {
      "cell_type": "code",
      "metadata": {
        "colab": {
          "base_uri": "https://localhost:8080/"
        },
        "id": "YbxrWiAnegEM",
        "outputId": "ac47d4f8-81c8-46a1-db38-c351e01e9098"
      },
      "source": [
        "# taking a sample of 1000 observations\n",
        "sample = ...\n",
        "sample.describe()"
      ],
      "execution_count": 8,
      "outputs": [
        {
          "output_type": "execute_result",
          "data": {
            "text/plain": [
              "count    1000.000000\n",
              "mean      788.982000\n",
              "std       430.910036\n",
              "min       139.000000\n",
              "25%       498.000000\n",
              "50%       698.000000\n",
              "75%       950.000000\n",
              "max      3003.000000\n",
              "Name: price, dtype: float64"
            ]
          },
          "metadata": {},
          "execution_count": 8
        }
      ]
    },
    {
      "cell_type": "markdown",
      "metadata": {
        "id": "GNylsWLegB-O"
      },
      "source": [
        "### Let's experiment"
      ]
    },
    {
      "cell_type": "code",
      "metadata": {
        "id": "AFAEc5xpej_f"
      },
      "source": [
        "# let's try taking a small sample many times, where we change the number of draw and number of samples\n",
        "\n",
        "\n",
        "..."
      ],
      "execution_count": null,
      "outputs": []
    },
    {
      "cell_type": "code",
      "metadata": {
        "colab": {
          "base_uri": "https://localhost:8080/",
          "height": 289
        },
        "id": "fJPqk9FIOf6b",
        "outputId": "3cb8adb8-65a3-4b2d-f6ca-e227d696963e"
      },
      "source": [
        "# comparing sample to population\n",
        "\n",
        "fig, ax = plt.subplots(1,2)\n",
        "sns.ecdfplot(df.price, ax=ax[0])\n",
        "sns.ecdfplot(sample, ax=ax[1])\n",
        "fig.show()"
      ],
      "execution_count": 26,
      "outputs": [
        {
          "output_type": "display_data",
          "data": {
            "image/png": "[encoded data removed]",
            "text/plain": [
              "<Figure size 432x288 with 2 Axes>"
            ]
          },
          "metadata": {}
        }
      ]
    },
    {
      "cell_type": "code",
      "metadata": {
        "colab": {
          "base_uri": "https://localhost:8080/",
          "height": 289
        },
        "id": "qdDFBbHtqd9p",
        "outputId": "6d750c64-6c02-4d24-b965-247e4832ac18"
      },
      "source": [
        "# Let's put more samples on the plot\n",
        "fig, ax = plt.subplots()\n",
        "\n",
        "...\n",
        "\n",
        "plt.show()"
      ],
      "execution_count": 27,
      "outputs": [
        {
          "output_type": "display_data",
          "data": {
            "image/png": "[encoded data removed]",
            "text/plain": [
              "<Figure size 432x288 with 1 Axes>"
            ]
          },
          "metadata": {}
        }
      ]
    },
    {
      "cell_type": "markdown",
      "metadata": {
        "id": "GqIQafpghZF5"
      },
      "source": [
        "One of the core ideas here is to figure out how much data do I need to know:\n",
        "- what's the average, meadian room cost / night\n",
        "- what's the probability of finding an affordable room given that I want to spend less than 1000 / night."
      ]
    },
    {
      "cell_type": "markdown",
      "metadata": {
        "id": "vYMKySXmm4ZX"
      },
      "source": [
        "# Random number generation and Bernoulli trials\n",
        "\n",
        "Let's return to random number generation from the lecture. We will use numpy's random number generation tools here rather than the more basic python random module that you have seen in the lecture.\n",
        "\n",
        "#### Simple random number generation between 0-1 and distribution"
      ]
    },
    {
      "cell_type": "code",
      "metadata": {
        "colab": {
          "base_uri": "https://localhost:8080/"
        },
        "id": "ab4uuL_-lZnz",
        "outputId": "2d9c61a3-36b5-44bc-c50c-48e4b711bd22"
      },
      "source": [
        "# Let's try\n",
        "np.random.random()"
      ],
      "execution_count": 35,
      "outputs": [
        {
          "output_type": "execute_result",
          "data": {
            "text/plain": [
              "0.6279833952103759"
            ]
          },
          "metadata": {},
          "execution_count": 35
        }
      ]
    },
    {
      "cell_type": "code",
      "metadata": {
        "colab": {
          "base_uri": "https://localhost:8080/"
        },
        "id": "lpFux7ezlfd_",
        "outputId": "1af311a5-0ed5-4775-a3e2-6a0dd88e72b8"
      },
      "source": [
        "# We get values between 0 and 1\n",
        "np.random.random(...)"
      ],
      "execution_count": 36,
      "outputs": [
        {
          "output_type": "execute_result",
          "data": {
            "text/plain": [
              "array([0.12703326, 0.76987361, 0.55492104, 0.48990229, 0.04946836,\n",
              "       0.52414289, 0.61386707, 0.56355081, 0.69907717, 0.26854435])"
            ]
          },
          "metadata": {},
          "execution_count": 36
        }
      ]
    },
    {
      "cell_type": "markdown",
      "metadata": {
        "id": "Q6dPtBX0lntH"
      },
      "source": [
        "Let's explore the distribution of what the random number generator is producing"
      ]
    },
    {
      "cell_type": "code",
      "metadata": {
        "id": "nb8Mk0qsnCFB",
        "colab": {
          "base_uri": "https://localhost:8080/",
          "height": 365
        },
        "outputId": "8134470b-052b-423a-ed14-042144586996"
      },
      "source": [
        "# Seed the random number generator - that's for reproduciability. Remember these generators are \"pseudo-random\"\n",
        "np.random.seed(21)\n",
        "\n",
        "# Instead of a list, we will use an empty numpy array here\n",
        "random_numbers = ...\n",
        "# Generate random numbers by looping over range(100000)\n",
        "...\n",
        "\n",
        "# Plot a histogram\n",
        "..."
      ],
      "execution_count": 31,
      "outputs": [
        {
          "output_type": "display_data",
          "data": {
            "image/png": "[encoded data removed]",
            "text/plain": [
              "<Figure size 360x360 with 1 Axes>"
            ]
          },
          "metadata": {}
        }
      ]
    },
    {
      "cell_type": "code",
      "metadata": {
        "colab": {
          "base_uri": "https://localhost:8080/",
          "height": 382
        },
        "id": "G2Ft2kACjbTh",
        "outputId": "aaca90a9-9327-44d7-bcd1-71dfdfd1e35c"
      },
      "source": [
        "# and here is a ecdf version of that\n",
        "..."
      ],
      "execution_count": 33,
      "outputs": [
        {
          "output_type": "execute_result",
          "data": {
            "text/plain": [
              "<seaborn.axisgrid.FacetGrid at 0x7f2f0c64bc10>"
            ]
          },
          "metadata": {},
          "execution_count": 33
        },
        {
          "output_type": "display_data",
          "data": {
            "image/png": "[encoded data removed]",
            "text/plain": [
              "<Figure size 360x360 with 1 Axes>"
            ]
          },
          "metadata": {}
        }
      ]
    },
    {
      "cell_type": "markdown",
      "metadata": {
        "id": "BI80uA-elvgp"
      },
      "source": [
        "Now, let's extend that to something where we include a probability parameter $p$ that determines the probability of sucess of a \"Trial\". The parameter $n$ is the number of trials. Imagine flipping a coin $n$ times knowing that it is fair $p = 0.5$ or biased/manipulated $p=0.3$"
      ]
    },
    {
      "cell_type": "code",
      "metadata": {
        "id": "ghKdM4Qqq5v3"
      },
      "source": [
        "# We will now define a function that takes in n and p and returns the number of \"sucess\" cases\n",
        "\n",
        "def perform_bernoulli_trials(n, p):\n",
        "    \"\"\"Perform n Bernoulli trials with success probability p\n",
        "    and return number of successes.\"\"\"\n",
        "\n",
        "    # Initialize number of successes: n_success\n",
        "    n_success = ... #we start at 0 and increment by one every time there is success\n",
        "\n",
        "    # Perform trials\n",
        "    for i in range(n):\n",
        "\n",
        "        # Generate random number between zero and one: random_number\n",
        "        random_number = ... # we know that already\n",
        "\n",
        "        # If less than p, it's a success so add one to n_success\n",
        "        \n",
        "    return n_success"
      ],
      "execution_count": 37,
      "outputs": []
    },
    {
      "cell_type": "code",
      "metadata": {
        "colab": {
          "base_uri": "https://localhost:8080/"
        },
        "id": "JYu8yx90ouvV",
        "outputId": "bc868756-bb8c-447f-845e-4d0d94482dde"
      },
      "source": [
        "# Let's try\n",
        "\n",
        "perform_bernoulli_trials(100, 0.5)"
      ],
      "execution_count": 40,
      "outputs": [
        {
          "output_type": "execute_result",
          "data": {
            "text/plain": [
              "52"
            ]
          },
          "metadata": {},
          "execution_count": 40
        }
      ]
    },
    {
      "cell_type": "markdown",
      "metadata": {
        "id": "yvDxotPpqDok"
      },
      "source": [
        "### Exercise: Crowdlending and defaults\n",
        "A quick-loan company on a crowdlending platform has 1000 loans. On average 3% of all loans have been defaulting per year.\n",
        "What's the probability that in any given year no loan defaults?"
      ]
    },
    {
      "cell_type": "code",
      "metadata": {
        "colab": {
          "base_uri": "https://localhost:8080/",
          "height": 382
        },
        "id": "2l7gStN3rNp4",
        "outputId": "cd2d778a-5fdd-495b-b0f8-113c8b226cc9"
      },
      "source": [
        "# Seed random number generator\n",
        "np.random.seed(21)\n",
        "\n",
        "# Initialize the number of defaults: n_defaults\n",
        "n_defaults = np.empty(10000)\n",
        "\n",
        "# Compute the number of defaults\n",
        "..."
      ],
      "execution_count": 45,
      "outputs": [
        {
          "output_type": "display_data",
          "data": {
            "image/png": "[encoded data removed]",
            "text/plain": [
              "<Figure size 360x360 with 1 Axes>"
            ]
          },
          "metadata": {}
        }
      ]
    },
    {
      "cell_type": "code",
      "metadata": {
        "id": "0AmsDLfWdiuP"
      },
      "source": [
        "# Let's use seaborn to visualise that\n",
        "ax = sns.displot(n_defaults, kind='hist', stat='probability', bins=10)\n",
        "ax.set(xlabel='number of defaults out of 1000 loans', ylabel='probability')\n",
        "\n",
        "\n",
        "# Show the plot\n",
        "plt.show()"
      ],
      "execution_count": null,
      "outputs": []
    },
    {
      "cell_type": "code",
      "metadata": {
        "colab": {
          "base_uri": "https://localhost:8080/",
          "height": 399
        },
        "id": "3_t3JVMFDJzX",
        "outputId": "d4b52ea4-ccdf-42cf-f6a0-71689c392a40"
      },
      "source": [
        "# Let's use seaborn to visualise that\n",
        "ax = sns.displot(n_defaults, kind='ecdf')\n",
        "ax.set(xlabel='number of defaults out of 1000 loans', ylabel='probability')\n"
      ],
      "execution_count": 46,
      "outputs": [
        {
          "output_type": "execute_result",
          "data": {
            "text/plain": [
              "<seaborn.axisgrid.FacetGrid at 0x7f2f0c0bfd90>"
            ]
          },
          "metadata": {},
          "execution_count": 46
        },
        {
          "output_type": "display_data",
          "data": {
            "image/png": "[encoded data removed]",
            "text/plain": [
              "<Figure size 360x360 with 1 Axes>"
            ]
          },
          "metadata": {}
        }
      ]
    },
    {
      "cell_type": "markdown",
      "metadata": {
        "id": "oazASfl-DZoE"
      },
      "source": [
        "What's the probability of no loans defualt?\n",
        "We know that we the company is going to lose money when more than 50 loans default. What's the probability of losing money?"
      ]
    },
    {
      "cell_type": "code",
      "metadata": {
        "colab": {
          "base_uri": "https://localhost:8080/"
        },
        "id": "U_pKkLgMsxJQ",
        "outputId": "0d4b1f87-69f2-4c4d-81c5-45c12f1e62b9"
      },
      "source": [
        "# Compute the number of 10000-loan simulations with 0 defaults\n",
        "no_defaults = ...\n",
        "\n",
        "# Compute the number of 10000-loan simulations with 50 or more defaults: n_lose_money\n",
        "n_lose_money = ...\n",
        "\n",
        "# Compute and print probability of having a great year!\n",
        "print('Probability of no default =', ...)\n",
        "\n",
        "# Compute and print probability of losing money\n",
        "print('Probability of losing money =', ...)\n"
      ],
      "execution_count": 54,
      "outputs": [
        {
          "output_type": "stream",
          "name": "stdout",
          "text": [
            "Probability of no default = 0.0\n",
            "Probability of losing money = 0.001\n"
          ]
        }
      ]
    },
    {
      "cell_type": "markdown",
      "metadata": {
        "id": "nmB1tCoSnwm7"
      },
      "source": [
        "# Binomial Distribution\n",
        "\n",
        "What we have done so far is working with a binomial distribution. We can do the same exercise without our \"self-made\" fuction above.\n",
        "\n",
        "Let's try another example:\n",
        "\n",
        "### Car Insurance\n",
        "\n",
        "A car insurance has 500 policies. Per year, there will be on average 1 fatal crash. The we assume that the number of crashes has a binomial distribution. What's the probability that no fatal crashes will happen in 1 year."
      ]
    },
    {
      "cell_type": "code",
      "metadata": {
        "id": "2In-ZbxZn1ts",
        "colab": {
          "base_uri": "https://localhost:8080/",
          "height": 382
        },
        "outputId": "15539eab-09c8-42df-bf5f-8b84e2584f88"
      },
      "source": [
        "# Take 10,000 samples out of the binomial distribution: n_defaults\n",
        "n_crashes = ...\n",
        "\n",
        "# Plot the histogram with default number of bins; label your axes\n",
        "ax = sns.displot(n_defaults, kind='ecdf')\n",
        "ax.set(xlabel='number of fatal crashes out of 500', ylabel='CDF')\n",
        "\n",
        "# Show the plot\n",
        "plt.show()\n"
      ],
      "execution_count": 55,
      "outputs": [
        {
          "output_type": "display_data",
          "data": {
            "image/png": "[encoded data removed]",
            "text/plain": [
              "<Figure size 360x360 with 1 Axes>"
            ]
          },
          "metadata": {}
        }
      ]
    },
    {
      "cell_type": "code",
      "metadata": {
        "colab": {
          "base_uri": "https://localhost:8080/"
        },
        "id": "QQGFgQByFis-",
        "outputId": "9b2a4da5-5def-4f17-a4e8-e29ea0e0153a"
      },
      "source": [
        "# Compute the number of 10000-insurance simulations with 0 fatalities\n",
        "no_crashes = ...\n",
        "\n",
        "# Compute and print probability of not crashing!\n",
        "print('Probability of no fatality =', ...)\n"
      ],
      "execution_count": 57,
      "outputs": [
        {
          "output_type": "stream",
          "name": "stdout",
          "text": [
            "Probability of no fatality = 0.3671\n"
          ]
        }
      ]
    },
    {
      "cell_type": "markdown",
      "metadata": {
        "id": "ncUEvVFoGkSG"
      },
      "source": [
        "#### Formal add on:\n",
        "\n",
        "Binomial coefficient (n choose k)\n",
        "$\n",
        "    \\binom{n}{k} = \\frac{n!}{k!(n-k)!}\n",
        "$\n",
        "\n",
        "The probability mass function is here the following\n",
        "\n",
        "$ f(k, n, p) = Pr(k;n,p) = Pr(X=k) = \\binom{n}{k} p^k(1-p)^{n-k}$\n",
        "\n",
        "$p$: average probability\n",
        "$k$: number of successes\n",
        "$n$: number of trials"
      ]
    },
    {
      "cell_type": "code",
      "metadata": {
        "colab": {
          "base_uri": "https://localhost:8080/",
          "height": 61
        },
        "id": "dNWHm0YRGnmJ",
        "outputId": "8ab01df0-369f-4eb0-9ca6-273292610d52"
      },
      "source": [
        "from sympy import *\n",
        "\n",
        "k, n, p = symbols('k, n, p')\n",
        "\n",
        "(factorial(n)/(factorial(k)*factorial(n-k)))*p**k*(1-p)**(n-k)"
      ],
      "execution_count": 58,
      "outputs": [
        {
          "output_type": "execute_result",
          "data": {
            "text/latex": "$\\displaystyle \\frac{p^{k} \\left(1 - p\\right)^{- k + n} n!}{k! \\left(- k + n\\right)!}$",
            "text/plain": [
              "p**k*(1 - p)**(-k + n)*factorial(n)/(factorial(k)*factorial(-k + n))"
            ]
          },
          "metadata": {},
          "execution_count": 58
        }
      ]
    },
    {
      "cell_type": "code",
      "metadata": {
        "colab": {
          "base_uri": "https://localhost:8080/",
          "height": 37
        },
        "id": "-N0d9gCnIjaV",
        "outputId": "1c2e0c93-6d7a-4c6a-8a6c-4d003b9fdd8a"
      },
      "source": [
        "# calculating the expected value using math...\n",
        "(factorial(500)/(factorial(0)*factorial(500-0)))*1/500**0*(1-1/500)**(500-0)"
      ],
      "execution_count": 59,
      "outputs": [
        {
          "output_type": "execute_result",
          "data": {
            "text/latex": "$\\displaystyle 0.367511254857159$",
            "text/plain": [
              "0.367511254857159"
            ]
          },
          "metadata": {},
          "execution_count": 59
        }
      ]
    }
  ]
}
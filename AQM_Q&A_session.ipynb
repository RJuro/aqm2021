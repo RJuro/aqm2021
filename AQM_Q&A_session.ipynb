{
  "nbformat": 4,
  "nbformat_minor": 0,
  "metadata": {
    "colab": {
      "name": "AQM-Q&A session.ipynb",
      "provenance": [],
      "collapsed_sections": [],
      "authorship_tag": "ABX9TyNuPIc4KJRQYB3i2tjcyh/l",
      "include_colab_link": true
    },
    "kernelspec": {
      "display_name": "Python 3",
      "name": "python3"
    },
    "language_info": {
      "name": "python"
    }
  },
  "cells": [
    {
      "cell_type": "markdown",
      "metadata": {
        "id": "view-in-github",
        "colab_type": "text"
      },
      "source": [
        "<a href=\"https://colab.research.google.com/github/RJuro/aqm2021/blob/main/AQM_Q%26A_session.ipynb\" target=\"_parent\"><img src=\"https://colab.research.google.com/assets/colab-badge.svg\" alt=\"Open In Colab\"/></a>"
      ]
    },
    {
      "cell_type": "code",
      "metadata": {
        "id": "A2JAziJdkJvB"
      },
      "source": [
        "# Importing the necessary libraries\n",
        "import pandas as pd\n",
        "import numpy as np \n",
        "import scipy as sp\n",
        "import matplotlib.pyplot as plt\n",
        "import seaborn as sns\n",
        "\n",
        "import statsmodels.api as sm\n",
        "\n",
        "sns.set_style('darkgrid')\n",
        "sns.mpl.rcParams['figure.figsize'] = (15.0, 9.0)"
      ],
      "execution_count": null,
      "outputs": []
    },
    {
      "cell_type": "markdown",
      "metadata": {
        "id": "1ZMXtsEtHhq4"
      },
      "source": [
        "## Chi-Square Test (question)\n",
        "\n",
        "we use this test to compare observed results with expected results.\n",
        "Is the difference between observed data and expected data  due to chance, or if it is due to a relationship between the variables we are studying?"
      ]
    },
    {
      "cell_type": "code",
      "metadata": {
        "id": "6OUniTO9HmQC"
      },
      "source": [
        "df = pd.DataFrame({'Sex' : ['M', 'M', 'M', 'F', 'F'] * 10,\n",
        "                   'isSmoker' : ['Smoker', 'Smoker', 'Non-Smoker', 'Non-Smoker', 'Smoker'] * 10\n",
        "                  })"
      ],
      "execution_count": null,
      "outputs": []
    },
    {
      "cell_type": "code",
      "metadata": {
        "id": "VGGaIuykHt5B"
      },
      "source": [
        "df.head()"
      ],
      "execution_count": null,
      "outputs": []
    },
    {
      "cell_type": "code",
      "metadata": {
        "colab": {
          "base_uri": "https://localhost:8080/",
          "height": 143
        },
        "id": "RS3tc4SIHv5V",
        "outputId": "473eb3f5-7d77-4b24-cae3-5d72a78164d7"
      },
      "source": [
        "contingency = pd.crosstab(df['Sex'], df['isSmoker'])\n",
        "contingency"
      ],
      "execution_count": 6,
      "outputs": [
        {
          "output_type": "execute_result",
          "data": {
            "text/html": [
              "<div>\n",
              "<style scoped>\n",
              "    .dataframe tbody tr th:only-of-type {\n",
              "        vertical-align: middle;\n",
              "    }\n",
              "\n",
              "    .dataframe tbody tr th {\n",
              "        vertical-align: top;\n",
              "    }\n",
              "\n",
              "    .dataframe thead th {\n",
              "        text-align: right;\n",
              "    }\n",
              "</style>\n",
              "<table border=\"1\" class=\"dataframe\">\n",
              "  <thead>\n",
              "    <tr style=\"text-align: right;\">\n",
              "      <th>isSmoker</th>\n",
              "      <th>Non-Smoker</th>\n",
              "      <th>Smoker</th>\n",
              "    </tr>\n",
              "    <tr>\n",
              "      <th>Sex</th>\n",
              "      <th></th>\n",
              "      <th></th>\n",
              "    </tr>\n",
              "  </thead>\n",
              "  <tbody>\n",
              "    <tr>\n",
              "      <th>F</th>\n",
              "      <td>10</td>\n",
              "      <td>10</td>\n",
              "    </tr>\n",
              "    <tr>\n",
              "      <th>M</th>\n",
              "      <td>10</td>\n",
              "      <td>20</td>\n",
              "    </tr>\n",
              "  </tbody>\n",
              "</table>\n",
              "</div>"
            ],
            "text/plain": [
              "isSmoker  Non-Smoker  Smoker\n",
              "Sex                         \n",
              "F                 10      10\n",
              "M                 10      20"
            ]
          },
          "metadata": {},
          "execution_count": 6
        }
      ]
    },
    {
      "cell_type": "code",
      "metadata": {
        "colab": {
          "base_uri": "https://localhost:8080/",
          "height": 143
        },
        "id": "tKZe7y-LIGfc",
        "outputId": "9db5a0f9-6373-4978-e8e0-43ff95751d81"
      },
      "source": [
        "contingency_pct = pd.crosstab(df['Sex'], df['isSmoker'], normalize='index')\n",
        "contingency_pct"
      ],
      "execution_count": 7,
      "outputs": [
        {
          "output_type": "execute_result",
          "data": {
            "text/html": [
              "<div>\n",
              "<style scoped>\n",
              "    .dataframe tbody tr th:only-of-type {\n",
              "        vertical-align: middle;\n",
              "    }\n",
              "\n",
              "    .dataframe tbody tr th {\n",
              "        vertical-align: top;\n",
              "    }\n",
              "\n",
              "    .dataframe thead th {\n",
              "        text-align: right;\n",
              "    }\n",
              "</style>\n",
              "<table border=\"1\" class=\"dataframe\">\n",
              "  <thead>\n",
              "    <tr style=\"text-align: right;\">\n",
              "      <th>isSmoker</th>\n",
              "      <th>Non-Smoker</th>\n",
              "      <th>Smoker</th>\n",
              "    </tr>\n",
              "    <tr>\n",
              "      <th>Sex</th>\n",
              "      <th></th>\n",
              "      <th></th>\n",
              "    </tr>\n",
              "  </thead>\n",
              "  <tbody>\n",
              "    <tr>\n",
              "      <th>F</th>\n",
              "      <td>0.500000</td>\n",
              "      <td>0.500000</td>\n",
              "    </tr>\n",
              "    <tr>\n",
              "      <th>M</th>\n",
              "      <td>0.333333</td>\n",
              "      <td>0.666667</td>\n",
              "    </tr>\n",
              "  </tbody>\n",
              "</table>\n",
              "</div>"
            ],
            "text/plain": [
              "isSmoker  Non-Smoker    Smoker\n",
              "Sex                           \n",
              "F           0.500000  0.500000\n",
              "M           0.333333  0.666667"
            ]
          },
          "metadata": {},
          "execution_count": 7
        }
      ]
    },
    {
      "cell_type": "code",
      "metadata": {
        "id": "xMGrf7ZHLaaB"
      },
      "source": [
        "from scipy.stats import chi2_contingency"
      ],
      "execution_count": 8,
      "outputs": []
    },
    {
      "cell_type": "code",
      "metadata": {
        "id": "x-ZeuqgfLgsj"
      },
      "source": [
        "c, p, dof, expected = chi2_contingency(contingency)"
      ],
      "execution_count": 9,
      "outputs": []
    },
    {
      "cell_type": "markdown",
      "metadata": {
        "id": "9GaiZYp-L1ve"
      },
      "source": [
        "The 0-hypothesis is that smoking and sex are independent. "
      ]
    },
    {
      "cell_type": "code",
      "metadata": {
        "colab": {
          "base_uri": "https://localhost:8080/",
          "height": 112
        },
        "id": "czGbULg-MEM-",
        "outputId": "e8b3b08a-e25b-4da6-fcb2-eca20023c1ce"
      },
      "source": [
        "# expected values if distribution were to follow the whole population (male & female)\n",
        "pd.DataFrame(expected)"
      ],
      "execution_count": 10,
      "outputs": [
        {
          "output_type": "execute_result",
          "data": {
            "text/html": [
              "<div>\n",
              "<style scoped>\n",
              "    .dataframe tbody tr th:only-of-type {\n",
              "        vertical-align: middle;\n",
              "    }\n",
              "\n",
              "    .dataframe tbody tr th {\n",
              "        vertical-align: top;\n",
              "    }\n",
              "\n",
              "    .dataframe thead th {\n",
              "        text-align: right;\n",
              "    }\n",
              "</style>\n",
              "<table border=\"1\" class=\"dataframe\">\n",
              "  <thead>\n",
              "    <tr style=\"text-align: right;\">\n",
              "      <th></th>\n",
              "      <th>0</th>\n",
              "      <th>1</th>\n",
              "    </tr>\n",
              "  </thead>\n",
              "  <tbody>\n",
              "    <tr>\n",
              "      <th>0</th>\n",
              "      <td>8.0</td>\n",
              "      <td>12.0</td>\n",
              "    </tr>\n",
              "    <tr>\n",
              "      <th>1</th>\n",
              "      <td>12.0</td>\n",
              "      <td>18.0</td>\n",
              "    </tr>\n",
              "  </tbody>\n",
              "</table>\n",
              "</div>"
            ],
            "text/plain": [
              "      0     1\n",
              "0   8.0  12.0\n",
              "1  12.0  18.0"
            ]
          },
          "metadata": {},
          "execution_count": 10
        }
      ]
    },
    {
      "cell_type": "code",
      "metadata": {
        "colab": {
          "base_uri": "https://localhost:8080/"
        },
        "id": "t5Yu2PyBMs-q",
        "outputId": "8791f2fd-a5e3-4d41-9545-13691aa95797"
      },
      "source": [
        "contingency.sum()/50"
      ],
      "execution_count": 12,
      "outputs": [
        {
          "output_type": "execute_result",
          "data": {
            "text/plain": [
              "isSmoker\n",
              "Non-Smoker    0.4\n",
              "Smoker        0.6\n",
              "dtype: float64"
            ]
          },
          "metadata": {},
          "execution_count": 12
        }
      ]
    },
    {
      "cell_type": "code",
      "metadata": {
        "colab": {
          "base_uri": "https://localhost:8080/"
        },
        "id": "7zDnE_dqLo6i",
        "outputId": "0eaf1407-ba38-4ef8-f1e6-436b5d3c2271"
      },
      "source": [
        "print(p)"
      ],
      "execution_count": 13,
      "outputs": [
        {
          "output_type": "stream",
          "name": "stdout",
          "text": [
            "0.3767591178115821\n"
          ]
        }
      ]
    },
    {
      "cell_type": "markdown",
      "metadata": {
        "id": "zHWBNG_5NNa7"
      },
      "source": [
        "with this p-value we can NOT reject the 0-hypothesis at a 95% level of confidence"
      ]
    },
    {
      "cell_type": "markdown",
      "metadata": {
        "id": "IwfrN-XVQeHG"
      },
      "source": [
        "## From question: Missing data"
      ]
    },
    {
      "cell_type": "code",
      "metadata": {
        "id": "b0AKSQCfQgYt"
      },
      "source": [
        "df = pd.read_csv(\"https://www.ssc.wisc.edu/~bhansen/econometrics/AK1991.txt\", sep=\"\\t\")"
      ],
      "execution_count": 14,
      "outputs": []
    },
    {
      "cell_type": "code",
      "metadata": {
        "id": "Syx_BhGNQsi_"
      },
      "source": [
        "df_nan = df.sample(25)"
      ],
      "execution_count": 15,
      "outputs": []
    },
    {
      "cell_type": "code",
      "metadata": {
        "colab": {
          "base_uri": "https://localhost:8080/",
          "height": 833
        },
        "id": "yKSWnOmoQ686",
        "outputId": "c1226e64-e77d-411c-e25d-a4e5cc923b36"
      },
      "source": [
        "df_nan"
      ],
      "execution_count": 16,
      "outputs": [
        {
          "output_type": "execute_result",
          "data": {
            "text/html": [
              "<div>\n",
              "<style scoped>\n",
              "    .dataframe tbody tr th:only-of-type {\n",
              "        vertical-align: middle;\n",
              "    }\n",
              "\n",
              "    .dataframe tbody tr th {\n",
              "        vertical-align: top;\n",
              "    }\n",
              "\n",
              "    .dataframe thead th {\n",
              "        text-align: right;\n",
              "    }\n",
              "</style>\n",
              "<table border=\"1\" class=\"dataframe\">\n",
              "  <thead>\n",
              "    <tr style=\"text-align: right;\">\n",
              "      <th></th>\n",
              "      <th>ageq</th>\n",
              "      <th>edu</th>\n",
              "      <th>logwage</th>\n",
              "      <th>married</th>\n",
              "      <th>state</th>\n",
              "      <th>qob</th>\n",
              "      <th>black</th>\n",
              "      <th>smsa</th>\n",
              "      <th>yob</th>\n",
              "      <th>region</th>\n",
              "    </tr>\n",
              "  </thead>\n",
              "  <tbody>\n",
              "    <tr>\n",
              "      <th>171361</th>\n",
              "      <td>43.50</td>\n",
              "      <td>12</td>\n",
              "      <td>5.751045</td>\n",
              "      <td>1</td>\n",
              "      <td>55</td>\n",
              "      <td>3</td>\n",
              "      <td>0</td>\n",
              "      <td>1</td>\n",
              "      <td>1936</td>\n",
              "      <td>1</td>\n",
              "    </tr>\n",
              "    <tr>\n",
              "      <th>59377</th>\n",
              "      <td>46.75</td>\n",
              "      <td>16</td>\n",
              "      <td>6.827817</td>\n",
              "      <td>1</td>\n",
              "      <td>34</td>\n",
              "      <td>2</td>\n",
              "      <td>0</td>\n",
              "      <td>1</td>\n",
              "      <td>1933</td>\n",
              "      <td>6</td>\n",
              "    </tr>\n",
              "    <tr>\n",
              "      <th>169906</th>\n",
              "      <td>42.25</td>\n",
              "      <td>19</td>\n",
              "      <td>6.241363</td>\n",
              "      <td>1</td>\n",
              "      <td>55</td>\n",
              "      <td>4</td>\n",
              "      <td>0</td>\n",
              "      <td>1</td>\n",
              "      <td>1937</td>\n",
              "      <td>1</td>\n",
              "    </tr>\n",
              "    <tr>\n",
              "      <th>185738</th>\n",
              "      <td>41.75</td>\n",
              "      <td>9</td>\n",
              "      <td>5.615530</td>\n",
              "      <td>1</td>\n",
              "      <td>39</td>\n",
              "      <td>2</td>\n",
              "      <td>0</td>\n",
              "      <td>1</td>\n",
              "      <td>1938</td>\n",
              "      <td>1</td>\n",
              "    </tr>\n",
              "    <tr>\n",
              "      <th>307100</th>\n",
              "      <td>42.00</td>\n",
              "      <td>11</td>\n",
              "      <td>5.790019</td>\n",
              "      <td>1</td>\n",
              "      <td>21</td>\n",
              "      <td>1</td>\n",
              "      <td>0</td>\n",
              "      <td>0</td>\n",
              "      <td>1938</td>\n",
              "      <td>2</td>\n",
              "    </tr>\n",
              "    <tr>\n",
              "      <th>37710</th>\n",
              "      <td>49.50</td>\n",
              "      <td>12</td>\n",
              "      <td>6.252533</td>\n",
              "      <td>1</td>\n",
              "      <td>42</td>\n",
              "      <td>3</td>\n",
              "      <td>0</td>\n",
              "      <td>1</td>\n",
              "      <td>1930</td>\n",
              "      <td>3</td>\n",
              "    </tr>\n",
              "    <tr>\n",
              "      <th>81894</th>\n",
              "      <td>45.50</td>\n",
              "      <td>14</td>\n",
              "      <td>6.001748</td>\n",
              "      <td>1</td>\n",
              "      <td>40</td>\n",
              "      <td>3</td>\n",
              "      <td>0</td>\n",
              "      <td>1</td>\n",
              "      <td>1934</td>\n",
              "      <td>0</td>\n",
              "    </tr>\n",
              "    <tr>\n",
              "      <th>293067</th>\n",
              "      <td>42.25</td>\n",
              "      <td>15</td>\n",
              "      <td>6.278365</td>\n",
              "      <td>1</td>\n",
              "      <td>5</td>\n",
              "      <td>4</td>\n",
              "      <td>0</td>\n",
              "      <td>1</td>\n",
              "      <td>1937</td>\n",
              "      <td>1</td>\n",
              "    </tr>\n",
              "    <tr>\n",
              "      <th>122348</th>\n",
              "      <td>40.25</td>\n",
              "      <td>15</td>\n",
              "      <td>6.001272</td>\n",
              "      <td>1</td>\n",
              "      <td>48</td>\n",
              "      <td>4</td>\n",
              "      <td>0</td>\n",
              "      <td>1</td>\n",
              "      <td>1939</td>\n",
              "      <td>8</td>\n",
              "    </tr>\n",
              "    <tr>\n",
              "      <th>187864</th>\n",
              "      <td>45.00</td>\n",
              "      <td>8</td>\n",
              "      <td>5.790019</td>\n",
              "      <td>1</td>\n",
              "      <td>39</td>\n",
              "      <td>1</td>\n",
              "      <td>0</td>\n",
              "      <td>0</td>\n",
              "      <td>1935</td>\n",
              "      <td>1</td>\n",
              "    </tr>\n",
              "    <tr>\n",
              "      <th>237748</th>\n",
              "      <td>48.25</td>\n",
              "      <td>16</td>\n",
              "      <td>6.868635</td>\n",
              "      <td>1</td>\n",
              "      <td>48</td>\n",
              "      <td>4</td>\n",
              "      <td>0</td>\n",
              "      <td>1</td>\n",
              "      <td>1931</td>\n",
              "      <td>2</td>\n",
              "    </tr>\n",
              "    <tr>\n",
              "      <th>270432</th>\n",
              "      <td>48.00</td>\n",
              "      <td>15</td>\n",
              "      <td>6.645516</td>\n",
              "      <td>1</td>\n",
              "      <td>22</td>\n",
              "      <td>1</td>\n",
              "      <td>0</td>\n",
              "      <td>1</td>\n",
              "      <td>1932</td>\n",
              "      <td>8</td>\n",
              "    </tr>\n",
              "    <tr>\n",
              "      <th>15209</th>\n",
              "      <td>40.25</td>\n",
              "      <td>15</td>\n",
              "      <td>5.298817</td>\n",
              "      <td>0</td>\n",
              "      <td>37</td>\n",
              "      <td>4</td>\n",
              "      <td>1</td>\n",
              "      <td>0</td>\n",
              "      <td>1939</td>\n",
              "      <td>6</td>\n",
              "    </tr>\n",
              "    <tr>\n",
              "      <th>32456</th>\n",
              "      <td>46.75</td>\n",
              "      <td>16</td>\n",
              "      <td>6.567564</td>\n",
              "      <td>1</td>\n",
              "      <td>42</td>\n",
              "      <td>2</td>\n",
              "      <td>0</td>\n",
              "      <td>1</td>\n",
              "      <td>1933</td>\n",
              "      <td>3</td>\n",
              "    </tr>\n",
              "    <tr>\n",
              "      <th>265402</th>\n",
              "      <td>47.50</td>\n",
              "      <td>11</td>\n",
              "      <td>5.952494</td>\n",
              "      <td>1</td>\n",
              "      <td>5</td>\n",
              "      <td>3</td>\n",
              "      <td>0</td>\n",
              "      <td>0</td>\n",
              "      <td>1932</td>\n",
              "      <td>4</td>\n",
              "    </tr>\n",
              "    <tr>\n",
              "      <th>273588</th>\n",
              "      <td>42.00</td>\n",
              "      <td>16</td>\n",
              "      <td>5.863079</td>\n",
              "      <td>1</td>\n",
              "      <td>5</td>\n",
              "      <td>1</td>\n",
              "      <td>0</td>\n",
              "      <td>1</td>\n",
              "      <td>1938</td>\n",
              "      <td>8</td>\n",
              "    </tr>\n",
              "    <tr>\n",
              "      <th>237754</th>\n",
              "      <td>45.00</td>\n",
              "      <td>19</td>\n",
              "      <td>5.955489</td>\n",
              "      <td>1</td>\n",
              "      <td>1</td>\n",
              "      <td>1</td>\n",
              "      <td>0</td>\n",
              "      <td>1</td>\n",
              "      <td>1935</td>\n",
              "      <td>2</td>\n",
              "    </tr>\n",
              "    <tr>\n",
              "      <th>14240</th>\n",
              "      <td>45.25</td>\n",
              "      <td>12</td>\n",
              "      <td>5.050497</td>\n",
              "      <td>1</td>\n",
              "      <td>28</td>\n",
              "      <td>4</td>\n",
              "      <td>1</td>\n",
              "      <td>0</td>\n",
              "      <td>1934</td>\n",
              "      <td>2</td>\n",
              "    </tr>\n",
              "    <tr>\n",
              "      <th>16221</th>\n",
              "      <td>43.75</td>\n",
              "      <td>11</td>\n",
              "      <td>5.918428</td>\n",
              "      <td>1</td>\n",
              "      <td>37</td>\n",
              "      <td>2</td>\n",
              "      <td>1</td>\n",
              "      <td>1</td>\n",
              "      <td>1936</td>\n",
              "      <td>3</td>\n",
              "    </tr>\n",
              "    <tr>\n",
              "      <th>33507</th>\n",
              "      <td>41.75</td>\n",
              "      <td>12</td>\n",
              "      <td>6.047781</td>\n",
              "      <td>1</td>\n",
              "      <td>42</td>\n",
              "      <td>2</td>\n",
              "      <td>0</td>\n",
              "      <td>1</td>\n",
              "      <td>1938</td>\n",
              "      <td>3</td>\n",
              "    </tr>\n",
              "    <tr>\n",
              "      <th>73129</th>\n",
              "      <td>43.50</td>\n",
              "      <td>15</td>\n",
              "      <td>5.259596</td>\n",
              "      <td>1</td>\n",
              "      <td>27</td>\n",
              "      <td>3</td>\n",
              "      <td>0</td>\n",
              "      <td>1</td>\n",
              "      <td>1936</td>\n",
              "      <td>0</td>\n",
              "    </tr>\n",
              "    <tr>\n",
              "      <th>104788</th>\n",
              "      <td>41.75</td>\n",
              "      <td>12</td>\n",
              "      <td>3.547072</td>\n",
              "      <td>1</td>\n",
              "      <td>36</td>\n",
              "      <td>2</td>\n",
              "      <td>0</td>\n",
              "      <td>1</td>\n",
              "      <td>1938</td>\n",
              "      <td>3</td>\n",
              "    </tr>\n",
              "    <tr>\n",
              "      <th>238835</th>\n",
              "      <td>40.25</td>\n",
              "      <td>16</td>\n",
              "      <td>6.406658</td>\n",
              "      <td>1</td>\n",
              "      <td>28</td>\n",
              "      <td>4</td>\n",
              "      <td>0</td>\n",
              "      <td>1</td>\n",
              "      <td>1939</td>\n",
              "      <td>2</td>\n",
              "    </tr>\n",
              "    <tr>\n",
              "      <th>219390</th>\n",
              "      <td>47.50</td>\n",
              "      <td>7</td>\n",
              "      <td>6.540169</td>\n",
              "      <td>0</td>\n",
              "      <td>34</td>\n",
              "      <td>3</td>\n",
              "      <td>0</td>\n",
              "      <td>1</td>\n",
              "      <td>1932</td>\n",
              "      <td>3</td>\n",
              "    </tr>\n",
              "    <tr>\n",
              "      <th>100168</th>\n",
              "      <td>45.50</td>\n",
              "      <td>9</td>\n",
              "      <td>6.134774</td>\n",
              "      <td>1</td>\n",
              "      <td>34</td>\n",
              "      <td>3</td>\n",
              "      <td>0</td>\n",
              "      <td>1</td>\n",
              "      <td>1934</td>\n",
              "      <td>3</td>\n",
              "    </tr>\n",
              "  </tbody>\n",
              "</table>\n",
              "</div>"
            ],
            "text/plain": [
              "         ageq  edu   logwage  married  state  qob  black  smsa   yob  region\n",
              "171361  43.50   12  5.751045        1     55    3      0     1  1936       1\n",
              "59377   46.75   16  6.827817        1     34    2      0     1  1933       6\n",
              "169906  42.25   19  6.241363        1     55    4      0     1  1937       1\n",
              "185738  41.75    9  5.615530        1     39    2      0     1  1938       1\n",
              "307100  42.00   11  5.790019        1     21    1      0     0  1938       2\n",
              "37710   49.50   12  6.252533        1     42    3      0     1  1930       3\n",
              "81894   45.50   14  6.001748        1     40    3      0     1  1934       0\n",
              "293067  42.25   15  6.278365        1      5    4      0     1  1937       1\n",
              "122348  40.25   15  6.001272        1     48    4      0     1  1939       8\n",
              "187864  45.00    8  5.790019        1     39    1      0     0  1935       1\n",
              "237748  48.25   16  6.868635        1     48    4      0     1  1931       2\n",
              "270432  48.00   15  6.645516        1     22    1      0     1  1932       8\n",
              "15209   40.25   15  5.298817        0     37    4      1     0  1939       6\n",
              "32456   46.75   16  6.567564        1     42    2      0     1  1933       3\n",
              "265402  47.50   11  5.952494        1      5    3      0     0  1932       4\n",
              "273588  42.00   16  5.863079        1      5    1      0     1  1938       8\n",
              "237754  45.00   19  5.955489        1      1    1      0     1  1935       2\n",
              "14240   45.25   12  5.050497        1     28    4      1     0  1934       2\n",
              "16221   43.75   11  5.918428        1     37    2      1     1  1936       3\n",
              "33507   41.75   12  6.047781        1     42    2      0     1  1938       3\n",
              "73129   43.50   15  5.259596        1     27    3      0     1  1936       0\n",
              "104788  41.75   12  3.547072        1     36    2      0     1  1938       3\n",
              "238835  40.25   16  6.406658        1     28    4      0     1  1939       2\n",
              "219390  47.50    7  6.540169        0     34    3      0     1  1932       3\n",
              "100168  45.50    9  6.134774        1     34    3      0     1  1934       3"
            ]
          },
          "metadata": {},
          "execution_count": 16
        }
      ]
    },
    {
      "cell_type": "markdown",
      "metadata": {
        "id": "yJBQBpXlSXor"
      },
      "source": [
        "Let's simulate some missing values"
      ]
    },
    {
      "cell_type": "code",
      "metadata": {
        "id": "6wqD04ZVQ8wN"
      },
      "source": [
        "import random\n",
        "\n",
        "rand1 = random.sample(list(df_nan.index), 7)\n",
        "rand2 = random.sample(list(df_nan.index), 3)"
      ],
      "execution_count": 17,
      "outputs": []
    },
    {
      "cell_type": "code",
      "metadata": {
        "id": "S4ljzWuaR2FH"
      },
      "source": [
        "df_nan.loc[rand1,'edu'] = np.nan"
      ],
      "execution_count": 18,
      "outputs": []
    },
    {
      "cell_type": "code",
      "metadata": {
        "id": "YmzjbSYZSQcL"
      },
      "source": [
        "df_nan.loc[rand2,'region'] = np.nan"
      ],
      "execution_count": 19,
      "outputs": []
    },
    {
      "cell_type": "code",
      "metadata": {
        "colab": {
          "base_uri": "https://localhost:8080/",
          "height": 833
        },
        "id": "ZORg9fFMSZ3b",
        "outputId": "3fe6d593-c0d1-4302-fc3c-5bdf053201fd"
      },
      "source": [
        "df_nan"
      ],
      "execution_count": 20,
      "outputs": [
        {
          "output_type": "execute_result",
          "data": {
            "text/html": [
              "<div>\n",
              "<style scoped>\n",
              "    .dataframe tbody tr th:only-of-type {\n",
              "        vertical-align: middle;\n",
              "    }\n",
              "\n",
              "    .dataframe tbody tr th {\n",
              "        vertical-align: top;\n",
              "    }\n",
              "\n",
              "    .dataframe thead th {\n",
              "        text-align: right;\n",
              "    }\n",
              "</style>\n",
              "<table border=\"1\" class=\"dataframe\">\n",
              "  <thead>\n",
              "    <tr style=\"text-align: right;\">\n",
              "      <th></th>\n",
              "      <th>ageq</th>\n",
              "      <th>edu</th>\n",
              "      <th>logwage</th>\n",
              "      <th>married</th>\n",
              "      <th>state</th>\n",
              "      <th>qob</th>\n",
              "      <th>black</th>\n",
              "      <th>smsa</th>\n",
              "      <th>yob</th>\n",
              "      <th>region</th>\n",
              "    </tr>\n",
              "  </thead>\n",
              "  <tbody>\n",
              "    <tr>\n",
              "      <th>171361</th>\n",
              "      <td>43.50</td>\n",
              "      <td>12.0</td>\n",
              "      <td>5.751045</td>\n",
              "      <td>1</td>\n",
              "      <td>55</td>\n",
              "      <td>3</td>\n",
              "      <td>0</td>\n",
              "      <td>1</td>\n",
              "      <td>1936</td>\n",
              "      <td>1.0</td>\n",
              "    </tr>\n",
              "    <tr>\n",
              "      <th>59377</th>\n",
              "      <td>46.75</td>\n",
              "      <td>16.0</td>\n",
              "      <td>6.827817</td>\n",
              "      <td>1</td>\n",
              "      <td>34</td>\n",
              "      <td>2</td>\n",
              "      <td>0</td>\n",
              "      <td>1</td>\n",
              "      <td>1933</td>\n",
              "      <td>6.0</td>\n",
              "    </tr>\n",
              "    <tr>\n",
              "      <th>169906</th>\n",
              "      <td>42.25</td>\n",
              "      <td>19.0</td>\n",
              "      <td>6.241363</td>\n",
              "      <td>1</td>\n",
              "      <td>55</td>\n",
              "      <td>4</td>\n",
              "      <td>0</td>\n",
              "      <td>1</td>\n",
              "      <td>1937</td>\n",
              "      <td>NaN</td>\n",
              "    </tr>\n",
              "    <tr>\n",
              "      <th>185738</th>\n",
              "      <td>41.75</td>\n",
              "      <td>9.0</td>\n",
              "      <td>5.615530</td>\n",
              "      <td>1</td>\n",
              "      <td>39</td>\n",
              "      <td>2</td>\n",
              "      <td>0</td>\n",
              "      <td>1</td>\n",
              "      <td>1938</td>\n",
              "      <td>1.0</td>\n",
              "    </tr>\n",
              "    <tr>\n",
              "      <th>307100</th>\n",
              "      <td>42.00</td>\n",
              "      <td>NaN</td>\n",
              "      <td>5.790019</td>\n",
              "      <td>1</td>\n",
              "      <td>21</td>\n",
              "      <td>1</td>\n",
              "      <td>0</td>\n",
              "      <td>0</td>\n",
              "      <td>1938</td>\n",
              "      <td>2.0</td>\n",
              "    </tr>\n",
              "    <tr>\n",
              "      <th>37710</th>\n",
              "      <td>49.50</td>\n",
              "      <td>NaN</td>\n",
              "      <td>6.252533</td>\n",
              "      <td>1</td>\n",
              "      <td>42</td>\n",
              "      <td>3</td>\n",
              "      <td>0</td>\n",
              "      <td>1</td>\n",
              "      <td>1930</td>\n",
              "      <td>3.0</td>\n",
              "    </tr>\n",
              "    <tr>\n",
              "      <th>81894</th>\n",
              "      <td>45.50</td>\n",
              "      <td>NaN</td>\n",
              "      <td>6.001748</td>\n",
              "      <td>1</td>\n",
              "      <td>40</td>\n",
              "      <td>3</td>\n",
              "      <td>0</td>\n",
              "      <td>1</td>\n",
              "      <td>1934</td>\n",
              "      <td>0.0</td>\n",
              "    </tr>\n",
              "    <tr>\n",
              "      <th>293067</th>\n",
              "      <td>42.25</td>\n",
              "      <td>15.0</td>\n",
              "      <td>6.278365</td>\n",
              "      <td>1</td>\n",
              "      <td>5</td>\n",
              "      <td>4</td>\n",
              "      <td>0</td>\n",
              "      <td>1</td>\n",
              "      <td>1937</td>\n",
              "      <td>1.0</td>\n",
              "    </tr>\n",
              "    <tr>\n",
              "      <th>122348</th>\n",
              "      <td>40.25</td>\n",
              "      <td>NaN</td>\n",
              "      <td>6.001272</td>\n",
              "      <td>1</td>\n",
              "      <td>48</td>\n",
              "      <td>4</td>\n",
              "      <td>0</td>\n",
              "      <td>1</td>\n",
              "      <td>1939</td>\n",
              "      <td>8.0</td>\n",
              "    </tr>\n",
              "    <tr>\n",
              "      <th>187864</th>\n",
              "      <td>45.00</td>\n",
              "      <td>NaN</td>\n",
              "      <td>5.790019</td>\n",
              "      <td>1</td>\n",
              "      <td>39</td>\n",
              "      <td>1</td>\n",
              "      <td>0</td>\n",
              "      <td>0</td>\n",
              "      <td>1935</td>\n",
              "      <td>1.0</td>\n",
              "    </tr>\n",
              "    <tr>\n",
              "      <th>237748</th>\n",
              "      <td>48.25</td>\n",
              "      <td>NaN</td>\n",
              "      <td>6.868635</td>\n",
              "      <td>1</td>\n",
              "      <td>48</td>\n",
              "      <td>4</td>\n",
              "      <td>0</td>\n",
              "      <td>1</td>\n",
              "      <td>1931</td>\n",
              "      <td>2.0</td>\n",
              "    </tr>\n",
              "    <tr>\n",
              "      <th>270432</th>\n",
              "      <td>48.00</td>\n",
              "      <td>15.0</td>\n",
              "      <td>6.645516</td>\n",
              "      <td>1</td>\n",
              "      <td>22</td>\n",
              "      <td>1</td>\n",
              "      <td>0</td>\n",
              "      <td>1</td>\n",
              "      <td>1932</td>\n",
              "      <td>8.0</td>\n",
              "    </tr>\n",
              "    <tr>\n",
              "      <th>15209</th>\n",
              "      <td>40.25</td>\n",
              "      <td>15.0</td>\n",
              "      <td>5.298817</td>\n",
              "      <td>0</td>\n",
              "      <td>37</td>\n",
              "      <td>4</td>\n",
              "      <td>1</td>\n",
              "      <td>0</td>\n",
              "      <td>1939</td>\n",
              "      <td>6.0</td>\n",
              "    </tr>\n",
              "    <tr>\n",
              "      <th>32456</th>\n",
              "      <td>46.75</td>\n",
              "      <td>16.0</td>\n",
              "      <td>6.567564</td>\n",
              "      <td>1</td>\n",
              "      <td>42</td>\n",
              "      <td>2</td>\n",
              "      <td>0</td>\n",
              "      <td>1</td>\n",
              "      <td>1933</td>\n",
              "      <td>NaN</td>\n",
              "    </tr>\n",
              "    <tr>\n",
              "      <th>265402</th>\n",
              "      <td>47.50</td>\n",
              "      <td>11.0</td>\n",
              "      <td>5.952494</td>\n",
              "      <td>1</td>\n",
              "      <td>5</td>\n",
              "      <td>3</td>\n",
              "      <td>0</td>\n",
              "      <td>0</td>\n",
              "      <td>1932</td>\n",
              "      <td>4.0</td>\n",
              "    </tr>\n",
              "    <tr>\n",
              "      <th>273588</th>\n",
              "      <td>42.00</td>\n",
              "      <td>16.0</td>\n",
              "      <td>5.863079</td>\n",
              "      <td>1</td>\n",
              "      <td>5</td>\n",
              "      <td>1</td>\n",
              "      <td>0</td>\n",
              "      <td>1</td>\n",
              "      <td>1938</td>\n",
              "      <td>NaN</td>\n",
              "    </tr>\n",
              "    <tr>\n",
              "      <th>237754</th>\n",
              "      <td>45.00</td>\n",
              "      <td>19.0</td>\n",
              "      <td>5.955489</td>\n",
              "      <td>1</td>\n",
              "      <td>1</td>\n",
              "      <td>1</td>\n",
              "      <td>0</td>\n",
              "      <td>1</td>\n",
              "      <td>1935</td>\n",
              "      <td>2.0</td>\n",
              "    </tr>\n",
              "    <tr>\n",
              "      <th>14240</th>\n",
              "      <td>45.25</td>\n",
              "      <td>NaN</td>\n",
              "      <td>5.050497</td>\n",
              "      <td>1</td>\n",
              "      <td>28</td>\n",
              "      <td>4</td>\n",
              "      <td>1</td>\n",
              "      <td>0</td>\n",
              "      <td>1934</td>\n",
              "      <td>2.0</td>\n",
              "    </tr>\n",
              "    <tr>\n",
              "      <th>16221</th>\n",
              "      <td>43.75</td>\n",
              "      <td>11.0</td>\n",
              "      <td>5.918428</td>\n",
              "      <td>1</td>\n",
              "      <td>37</td>\n",
              "      <td>2</td>\n",
              "      <td>1</td>\n",
              "      <td>1</td>\n",
              "      <td>1936</td>\n",
              "      <td>3.0</td>\n",
              "    </tr>\n",
              "    <tr>\n",
              "      <th>33507</th>\n",
              "      <td>41.75</td>\n",
              "      <td>12.0</td>\n",
              "      <td>6.047781</td>\n",
              "      <td>1</td>\n",
              "      <td>42</td>\n",
              "      <td>2</td>\n",
              "      <td>0</td>\n",
              "      <td>1</td>\n",
              "      <td>1938</td>\n",
              "      <td>3.0</td>\n",
              "    </tr>\n",
              "    <tr>\n",
              "      <th>73129</th>\n",
              "      <td>43.50</td>\n",
              "      <td>15.0</td>\n",
              "      <td>5.259596</td>\n",
              "      <td>1</td>\n",
              "      <td>27</td>\n",
              "      <td>3</td>\n",
              "      <td>0</td>\n",
              "      <td>1</td>\n",
              "      <td>1936</td>\n",
              "      <td>0.0</td>\n",
              "    </tr>\n",
              "    <tr>\n",
              "      <th>104788</th>\n",
              "      <td>41.75</td>\n",
              "      <td>12.0</td>\n",
              "      <td>3.547072</td>\n",
              "      <td>1</td>\n",
              "      <td>36</td>\n",
              "      <td>2</td>\n",
              "      <td>0</td>\n",
              "      <td>1</td>\n",
              "      <td>1938</td>\n",
              "      <td>3.0</td>\n",
              "    </tr>\n",
              "    <tr>\n",
              "      <th>238835</th>\n",
              "      <td>40.25</td>\n",
              "      <td>16.0</td>\n",
              "      <td>6.406658</td>\n",
              "      <td>1</td>\n",
              "      <td>28</td>\n",
              "      <td>4</td>\n",
              "      <td>0</td>\n",
              "      <td>1</td>\n",
              "      <td>1939</td>\n",
              "      <td>2.0</td>\n",
              "    </tr>\n",
              "    <tr>\n",
              "      <th>219390</th>\n",
              "      <td>47.50</td>\n",
              "      <td>7.0</td>\n",
              "      <td>6.540169</td>\n",
              "      <td>0</td>\n",
              "      <td>34</td>\n",
              "      <td>3</td>\n",
              "      <td>0</td>\n",
              "      <td>1</td>\n",
              "      <td>1932</td>\n",
              "      <td>3.0</td>\n",
              "    </tr>\n",
              "    <tr>\n",
              "      <th>100168</th>\n",
              "      <td>45.50</td>\n",
              "      <td>9.0</td>\n",
              "      <td>6.134774</td>\n",
              "      <td>1</td>\n",
              "      <td>34</td>\n",
              "      <td>3</td>\n",
              "      <td>0</td>\n",
              "      <td>1</td>\n",
              "      <td>1934</td>\n",
              "      <td>3.0</td>\n",
              "    </tr>\n",
              "  </tbody>\n",
              "</table>\n",
              "</div>"
            ],
            "text/plain": [
              "         ageq   edu   logwage  married  state  qob  black  smsa   yob  region\n",
              "171361  43.50  12.0  5.751045        1     55    3      0     1  1936     1.0\n",
              "59377   46.75  16.0  6.827817        1     34    2      0     1  1933     6.0\n",
              "169906  42.25  19.0  6.241363        1     55    4      0     1  1937     NaN\n",
              "185738  41.75   9.0  5.615530        1     39    2      0     1  1938     1.0\n",
              "307100  42.00   NaN  5.790019        1     21    1      0     0  1938     2.0\n",
              "37710   49.50   NaN  6.252533        1     42    3      0     1  1930     3.0\n",
              "81894   45.50   NaN  6.001748        1     40    3      0     1  1934     0.0\n",
              "293067  42.25  15.0  6.278365        1      5    4      0     1  1937     1.0\n",
              "122348  40.25   NaN  6.001272        1     48    4      0     1  1939     8.0\n",
              "187864  45.00   NaN  5.790019        1     39    1      0     0  1935     1.0\n",
              "237748  48.25   NaN  6.868635        1     48    4      0     1  1931     2.0\n",
              "270432  48.00  15.0  6.645516        1     22    1      0     1  1932     8.0\n",
              "15209   40.25  15.0  5.298817        0     37    4      1     0  1939     6.0\n",
              "32456   46.75  16.0  6.567564        1     42    2      0     1  1933     NaN\n",
              "265402  47.50  11.0  5.952494        1      5    3      0     0  1932     4.0\n",
              "273588  42.00  16.0  5.863079        1      5    1      0     1  1938     NaN\n",
              "237754  45.00  19.0  5.955489        1      1    1      0     1  1935     2.0\n",
              "14240   45.25   NaN  5.050497        1     28    4      1     0  1934     2.0\n",
              "16221   43.75  11.0  5.918428        1     37    2      1     1  1936     3.0\n",
              "33507   41.75  12.0  6.047781        1     42    2      0     1  1938     3.0\n",
              "73129   43.50  15.0  5.259596        1     27    3      0     1  1936     0.0\n",
              "104788  41.75  12.0  3.547072        1     36    2      0     1  1938     3.0\n",
              "238835  40.25  16.0  6.406658        1     28    4      0     1  1939     2.0\n",
              "219390  47.50   7.0  6.540169        0     34    3      0     1  1932     3.0\n",
              "100168  45.50   9.0  6.134774        1     34    3      0     1  1934     3.0"
            ]
          },
          "metadata": {},
          "execution_count": 20
        }
      ]
    },
    {
      "cell_type": "code",
      "metadata": {
        "colab": {
          "base_uri": "https://localhost:8080/",
          "height": 537
        },
        "id": "51o0xYnLTKzx",
        "outputId": "158c5ca2-d8aa-46cb-b402-087a46c75088"
      },
      "source": [
        "# option1: drop\n",
        "\n",
        "print(len(df_nan.dropna()))\n",
        "df_nan.dropna()"
      ],
      "execution_count": 21,
      "outputs": [
        {
          "output_type": "stream",
          "name": "stdout",
          "text": [
            "15\n"
          ]
        },
        {
          "output_type": "execute_result",
          "data": {
            "text/html": [
              "<div>\n",
              "<style scoped>\n",
              "    .dataframe tbody tr th:only-of-type {\n",
              "        vertical-align: middle;\n",
              "    }\n",
              "\n",
              "    .dataframe tbody tr th {\n",
              "        vertical-align: top;\n",
              "    }\n",
              "\n",
              "    .dataframe thead th {\n",
              "        text-align: right;\n",
              "    }\n",
              "</style>\n",
              "<table border=\"1\" class=\"dataframe\">\n",
              "  <thead>\n",
              "    <tr style=\"text-align: right;\">\n",
              "      <th></th>\n",
              "      <th>ageq</th>\n",
              "      <th>edu</th>\n",
              "      <th>logwage</th>\n",
              "      <th>married</th>\n",
              "      <th>state</th>\n",
              "      <th>qob</th>\n",
              "      <th>black</th>\n",
              "      <th>smsa</th>\n",
              "      <th>yob</th>\n",
              "      <th>region</th>\n",
              "    </tr>\n",
              "  </thead>\n",
              "  <tbody>\n",
              "    <tr>\n",
              "      <th>171361</th>\n",
              "      <td>43.50</td>\n",
              "      <td>12.0</td>\n",
              "      <td>5.751045</td>\n",
              "      <td>1</td>\n",
              "      <td>55</td>\n",
              "      <td>3</td>\n",
              "      <td>0</td>\n",
              "      <td>1</td>\n",
              "      <td>1936</td>\n",
              "      <td>1.0</td>\n",
              "    </tr>\n",
              "    <tr>\n",
              "      <th>59377</th>\n",
              "      <td>46.75</td>\n",
              "      <td>16.0</td>\n",
              "      <td>6.827817</td>\n",
              "      <td>1</td>\n",
              "      <td>34</td>\n",
              "      <td>2</td>\n",
              "      <td>0</td>\n",
              "      <td>1</td>\n",
              "      <td>1933</td>\n",
              "      <td>6.0</td>\n",
              "    </tr>\n",
              "    <tr>\n",
              "      <th>185738</th>\n",
              "      <td>41.75</td>\n",
              "      <td>9.0</td>\n",
              "      <td>5.615530</td>\n",
              "      <td>1</td>\n",
              "      <td>39</td>\n",
              "      <td>2</td>\n",
              "      <td>0</td>\n",
              "      <td>1</td>\n",
              "      <td>1938</td>\n",
              "      <td>1.0</td>\n",
              "    </tr>\n",
              "    <tr>\n",
              "      <th>293067</th>\n",
              "      <td>42.25</td>\n",
              "      <td>15.0</td>\n",
              "      <td>6.278365</td>\n",
              "      <td>1</td>\n",
              "      <td>5</td>\n",
              "      <td>4</td>\n",
              "      <td>0</td>\n",
              "      <td>1</td>\n",
              "      <td>1937</td>\n",
              "      <td>1.0</td>\n",
              "    </tr>\n",
              "    <tr>\n",
              "      <th>270432</th>\n",
              "      <td>48.00</td>\n",
              "      <td>15.0</td>\n",
              "      <td>6.645516</td>\n",
              "      <td>1</td>\n",
              "      <td>22</td>\n",
              "      <td>1</td>\n",
              "      <td>0</td>\n",
              "      <td>1</td>\n",
              "      <td>1932</td>\n",
              "      <td>8.0</td>\n",
              "    </tr>\n",
              "    <tr>\n",
              "      <th>15209</th>\n",
              "      <td>40.25</td>\n",
              "      <td>15.0</td>\n",
              "      <td>5.298817</td>\n",
              "      <td>0</td>\n",
              "      <td>37</td>\n",
              "      <td>4</td>\n",
              "      <td>1</td>\n",
              "      <td>0</td>\n",
              "      <td>1939</td>\n",
              "      <td>6.0</td>\n",
              "    </tr>\n",
              "    <tr>\n",
              "      <th>265402</th>\n",
              "      <td>47.50</td>\n",
              "      <td>11.0</td>\n",
              "      <td>5.952494</td>\n",
              "      <td>1</td>\n",
              "      <td>5</td>\n",
              "      <td>3</td>\n",
              "      <td>0</td>\n",
              "      <td>0</td>\n",
              "      <td>1932</td>\n",
              "      <td>4.0</td>\n",
              "    </tr>\n",
              "    <tr>\n",
              "      <th>237754</th>\n",
              "      <td>45.00</td>\n",
              "      <td>19.0</td>\n",
              "      <td>5.955489</td>\n",
              "      <td>1</td>\n",
              "      <td>1</td>\n",
              "      <td>1</td>\n",
              "      <td>0</td>\n",
              "      <td>1</td>\n",
              "      <td>1935</td>\n",
              "      <td>2.0</td>\n",
              "    </tr>\n",
              "    <tr>\n",
              "      <th>16221</th>\n",
              "      <td>43.75</td>\n",
              "      <td>11.0</td>\n",
              "      <td>5.918428</td>\n",
              "      <td>1</td>\n",
              "      <td>37</td>\n",
              "      <td>2</td>\n",
              "      <td>1</td>\n",
              "      <td>1</td>\n",
              "      <td>1936</td>\n",
              "      <td>3.0</td>\n",
              "    </tr>\n",
              "    <tr>\n",
              "      <th>33507</th>\n",
              "      <td>41.75</td>\n",
              "      <td>12.0</td>\n",
              "      <td>6.047781</td>\n",
              "      <td>1</td>\n",
              "      <td>42</td>\n",
              "      <td>2</td>\n",
              "      <td>0</td>\n",
              "      <td>1</td>\n",
              "      <td>1938</td>\n",
              "      <td>3.0</td>\n",
              "    </tr>\n",
              "    <tr>\n",
              "      <th>73129</th>\n",
              "      <td>43.50</td>\n",
              "      <td>15.0</td>\n",
              "      <td>5.259596</td>\n",
              "      <td>1</td>\n",
              "      <td>27</td>\n",
              "      <td>3</td>\n",
              "      <td>0</td>\n",
              "      <td>1</td>\n",
              "      <td>1936</td>\n",
              "      <td>0.0</td>\n",
              "    </tr>\n",
              "    <tr>\n",
              "      <th>104788</th>\n",
              "      <td>41.75</td>\n",
              "      <td>12.0</td>\n",
              "      <td>3.547072</td>\n",
              "      <td>1</td>\n",
              "      <td>36</td>\n",
              "      <td>2</td>\n",
              "      <td>0</td>\n",
              "      <td>1</td>\n",
              "      <td>1938</td>\n",
              "      <td>3.0</td>\n",
              "    </tr>\n",
              "    <tr>\n",
              "      <th>238835</th>\n",
              "      <td>40.25</td>\n",
              "      <td>16.0</td>\n",
              "      <td>6.406658</td>\n",
              "      <td>1</td>\n",
              "      <td>28</td>\n",
              "      <td>4</td>\n",
              "      <td>0</td>\n",
              "      <td>1</td>\n",
              "      <td>1939</td>\n",
              "      <td>2.0</td>\n",
              "    </tr>\n",
              "    <tr>\n",
              "      <th>219390</th>\n",
              "      <td>47.50</td>\n",
              "      <td>7.0</td>\n",
              "      <td>6.540169</td>\n",
              "      <td>0</td>\n",
              "      <td>34</td>\n",
              "      <td>3</td>\n",
              "      <td>0</td>\n",
              "      <td>1</td>\n",
              "      <td>1932</td>\n",
              "      <td>3.0</td>\n",
              "    </tr>\n",
              "    <tr>\n",
              "      <th>100168</th>\n",
              "      <td>45.50</td>\n",
              "      <td>9.0</td>\n",
              "      <td>6.134774</td>\n",
              "      <td>1</td>\n",
              "      <td>34</td>\n",
              "      <td>3</td>\n",
              "      <td>0</td>\n",
              "      <td>1</td>\n",
              "      <td>1934</td>\n",
              "      <td>3.0</td>\n",
              "    </tr>\n",
              "  </tbody>\n",
              "</table>\n",
              "</div>"
            ],
            "text/plain": [
              "         ageq   edu   logwage  married  state  qob  black  smsa   yob  region\n",
              "171361  43.50  12.0  5.751045        1     55    3      0     1  1936     1.0\n",
              "59377   46.75  16.0  6.827817        1     34    2      0     1  1933     6.0\n",
              "185738  41.75   9.0  5.615530        1     39    2      0     1  1938     1.0\n",
              "293067  42.25  15.0  6.278365        1      5    4      0     1  1937     1.0\n",
              "270432  48.00  15.0  6.645516        1     22    1      0     1  1932     8.0\n",
              "15209   40.25  15.0  5.298817        0     37    4      1     0  1939     6.0\n",
              "265402  47.50  11.0  5.952494        1      5    3      0     0  1932     4.0\n",
              "237754  45.00  19.0  5.955489        1      1    1      0     1  1935     2.0\n",
              "16221   43.75  11.0  5.918428        1     37    2      1     1  1936     3.0\n",
              "33507   41.75  12.0  6.047781        1     42    2      0     1  1938     3.0\n",
              "73129   43.50  15.0  5.259596        1     27    3      0     1  1936     0.0\n",
              "104788  41.75  12.0  3.547072        1     36    2      0     1  1938     3.0\n",
              "238835  40.25  16.0  6.406658        1     28    4      0     1  1939     2.0\n",
              "219390  47.50   7.0  6.540169        0     34    3      0     1  1932     3.0\n",
              "100168  45.50   9.0  6.134774        1     34    3      0     1  1934     3.0"
            ]
          },
          "metadata": {},
          "execution_count": 21
        }
      ]
    },
    {
      "cell_type": "code",
      "metadata": {
        "id": "d8r5OeI8TXxW"
      },
      "source": [
        "# option 1: fill\n",
        "\n",
        "mean_of_edu = round(df_nan['edu'].mean())\n",
        "df_nan['edu'].fillna(mean_of_edu)\n",
        "\n",
        "# df_nan['edu'] = df_nan['edu'].fillna(mean_of_edu)"
      ],
      "execution_count": null,
      "outputs": []
    },
    {
      "cell_type": "code",
      "metadata": {
        "id": "-xHDm1-xQZvW"
      },
      "source": [
        "df_nan['region'].mode()"
      ],
      "execution_count": null,
      "outputs": []
    },
    {
      "cell_type": "code",
      "metadata": {
        "id": "h5awFZ3bUCGA"
      },
      "source": [
        "mode_of_region = df_nan['region'].mode()[0]\n",
        "df_nan['region'].fillna(mode_of_region)"
      ],
      "execution_count": null,
      "outputs": []
    },
    {
      "cell_type": "code",
      "metadata": {
        "id": "U5yzebn4V9hp"
      },
      "source": [
        "# Overkill option: Predict what would have been there probably... AKA Impute\n",
        "\n",
        "from sklearn.experimental import enable_iterative_imputer\n",
        "from sklearn.impute import IterativeImputer\n",
        "\n",
        "imputer = IterativeImputer(random_state=0)"
      ],
      "execution_count": 29,
      "outputs": []
    },
    {
      "cell_type": "code",
      "metadata": {
        "id": "TNb0b0yRWjDK"
      },
      "source": [
        "df_nan_imp = df_nan.copy()"
      ],
      "execution_count": 30,
      "outputs": []
    },
    {
      "cell_type": "code",
      "metadata": {
        "id": "BtP2AL2oWR48"
      },
      "source": [
        "df_nan_imp.iloc[:,:] = imputer.fit_transform(df_nan)"
      ],
      "execution_count": 31,
      "outputs": []
    },
    {
      "cell_type": "code",
      "metadata": {
        "id": "alsr76PmRBIm"
      },
      "source": [
        "df_nan_imp"
      ],
      "execution_count": null,
      "outputs": []
    },
    {
      "cell_type": "code",
      "metadata": {
        "id": "Ax0b1uBLYvFB"
      },
      "source": [
        "df_nan_imp['edu']"
      ],
      "execution_count": null,
      "outputs": []
    },
    {
      "cell_type": "code",
      "metadata": {
        "id": "Poq36LSkW0bx"
      },
      "source": [
        "round(df_nan_imp['edu'])"
      ],
      "execution_count": null,
      "outputs": []
    },
    {
      "cell_type": "markdown",
      "metadata": {
        "id": "i5ens41uHn11"
      },
      "source": [
        "## Example to clarify several questions"
      ]
    },
    {
      "cell_type": "code",
      "metadata": {
        "id": "D-zdGESVkdpg"
      },
      "source": [
        "# Importing the data.\n",
        "df = pd.read_csv(\"https://www.ssc.wisc.edu/~bhansen/econometrics/AK1991.txt\", sep=\"\\t\")"
      ],
      "execution_count": 34,
      "outputs": []
    },
    {
      "cell_type": "code",
      "metadata": {
        "colab": {
          "base_uri": "https://localhost:8080/",
          "height": 206
        },
        "id": "iE8Hq8bKkd4f",
        "outputId": "502879aa-3043-4f87-d444-07fbe4edbd55"
      },
      "source": [
        "# Inspect the data:\n",
        "df.head()"
      ],
      "execution_count": 35,
      "outputs": [
        {
          "output_type": "execute_result",
          "data": {
            "text/html": [
              "<div>\n",
              "<style scoped>\n",
              "    .dataframe tbody tr th:only-of-type {\n",
              "        vertical-align: middle;\n",
              "    }\n",
              "\n",
              "    .dataframe tbody tr th {\n",
              "        vertical-align: top;\n",
              "    }\n",
              "\n",
              "    .dataframe thead th {\n",
              "        text-align: right;\n",
              "    }\n",
              "</style>\n",
              "<table border=\"1\" class=\"dataframe\">\n",
              "  <thead>\n",
              "    <tr style=\"text-align: right;\">\n",
              "      <th></th>\n",
              "      <th>ageq</th>\n",
              "      <th>edu</th>\n",
              "      <th>logwage</th>\n",
              "      <th>married</th>\n",
              "      <th>state</th>\n",
              "      <th>qob</th>\n",
              "      <th>black</th>\n",
              "      <th>smsa</th>\n",
              "      <th>yob</th>\n",
              "      <th>region</th>\n",
              "    </tr>\n",
              "  </thead>\n",
              "  <tbody>\n",
              "    <tr>\n",
              "      <th>0</th>\n",
              "      <td>47.00</td>\n",
              "      <td>12</td>\n",
              "      <td>6.245846</td>\n",
              "      <td>1</td>\n",
              "      <td>1</td>\n",
              "      <td>1</td>\n",
              "      <td>1</td>\n",
              "      <td>1</td>\n",
              "      <td>1933</td>\n",
              "      <td>0</td>\n",
              "    </tr>\n",
              "    <tr>\n",
              "      <th>1</th>\n",
              "      <td>46.25</td>\n",
              "      <td>12</td>\n",
              "      <td>5.847161</td>\n",
              "      <td>1</td>\n",
              "      <td>48</td>\n",
              "      <td>4</td>\n",
              "      <td>1</td>\n",
              "      <td>1</td>\n",
              "      <td>1933</td>\n",
              "      <td>0</td>\n",
              "    </tr>\n",
              "    <tr>\n",
              "      <th>2</th>\n",
              "      <td>50.00</td>\n",
              "      <td>12</td>\n",
              "      <td>6.645516</td>\n",
              "      <td>1</td>\n",
              "      <td>2</td>\n",
              "      <td>1</td>\n",
              "      <td>1</td>\n",
              "      <td>1</td>\n",
              "      <td>1930</td>\n",
              "      <td>0</td>\n",
              "    </tr>\n",
              "    <tr>\n",
              "      <th>3</th>\n",
              "      <td>47.00</td>\n",
              "      <td>16</td>\n",
              "      <td>6.706133</td>\n",
              "      <td>1</td>\n",
              "      <td>22</td>\n",
              "      <td>1</td>\n",
              "      <td>1</td>\n",
              "      <td>1</td>\n",
              "      <td>1933</td>\n",
              "      <td>0</td>\n",
              "    </tr>\n",
              "    <tr>\n",
              "      <th>4</th>\n",
              "      <td>42.25</td>\n",
              "      <td>14</td>\n",
              "      <td>6.357876</td>\n",
              "      <td>1</td>\n",
              "      <td>42</td>\n",
              "      <td>4</td>\n",
              "      <td>1</td>\n",
              "      <td>1</td>\n",
              "      <td>1937</td>\n",
              "      <td>0</td>\n",
              "    </tr>\n",
              "  </tbody>\n",
              "</table>\n",
              "</div>"
            ],
            "text/plain": [
              "    ageq  edu   logwage  married  state  qob  black  smsa   yob  region\n",
              "0  47.00   12  6.245846        1      1    1      1     1  1933       0\n",
              "1  46.25   12  5.847161        1     48    4      1     1  1933       0\n",
              "2  50.00   12  6.645516        1      2    1      1     1  1930       0\n",
              "3  47.00   16  6.706133        1     22    1      1     1  1933       0\n",
              "4  42.25   14  6.357876        1     42    4      1     1  1937       0"
            ]
          },
          "metadata": {},
          "execution_count": 35
        }
      ]
    },
    {
      "cell_type": "code",
      "metadata": {
        "colab": {
          "base_uri": "https://localhost:8080/",
          "height": 351
        },
        "id": "TwUr3RolQ9KO",
        "outputId": "88dc8849-bab2-48a0-a280-6f4281ab863b"
      },
      "source": [
        "sns.countplot(df.region)"
      ],
      "execution_count": 36,
      "outputs": [
        {
          "output_type": "stream",
          "name": "stderr",
          "text": [
            "/usr/local/lib/python3.7/dist-packages/seaborn/_decorators.py:43: FutureWarning: Pass the following variable as a keyword arg: x. From version 0.12, the only valid positional argument will be `data`, and passing other arguments without an explicit keyword will result in an error or misinterpretation.\n",
            "  FutureWarning\n"
          ]
        },
        {
          "output_type": "execute_result",
          "data": {
            "text/plain": [
              "<matplotlib.axes._subplots.AxesSubplot at 0x7fe747743d90>"
            ]
          },
          "metadata": {},
          "execution_count": 36
        },
        {
          "output_type": "display_data",
          "data": {
            "image/png": "[encoded data removed]",
            "text/plain": [
              "<Figure size 432x288 with 1 Axes>"
            ]
          },
          "metadata": {
            "needs_background": "light"
          }
        }
      ]
    },
    {
      "cell_type": "code",
      "metadata": {
        "id": "o4GtF0vzkgFr"
      },
      "source": [
        "# Remove the state, yob, and region variables from the dataset: \n",
        "df = df.drop(columns=['state', 'yob'])"
      ],
      "execution_count": 37,
      "outputs": []
    },
    {
      "cell_type": "code",
      "metadata": {
        "colab": {
          "base_uri": "https://localhost:8080/"
        },
        "id": "ToKFug4_lfdP",
        "outputId": "145c7504-06ab-4f5e-ccc5-bffa5469924e"
      },
      "source": [
        "# II.1: Compute the mean of the `black` variable distributed on the `qob` variable.\n",
        "# TIP: Use the groupby function\n",
        "df['black'].groupby(df['qob']).mean()"
      ],
      "execution_count": 38,
      "outputs": [
        {
          "output_type": "execute_result",
          "data": {
            "text/plain": [
              "qob\n",
              "1    0.083836\n",
              "2    0.083219\n",
              "3    0.079430\n",
              "4    0.080377\n",
              "Name: black, dtype: float64"
            ]
          },
          "metadata": {},
          "execution_count": 38
        }
      ]
    },
    {
      "cell_type": "code",
      "metadata": {
        "colab": {
          "base_uri": "https://localhost:8080/"
        },
        "id": "4KG_y8ITli8y",
        "outputId": "0d49b979-fad0-4326-ff83-beb5c382cc54"
      },
      "source": [
        "f_value, p_value = sp.stats.f_oneway(\n",
        "    df.loc[df['qob'] == 1, 'black'].values,\n",
        "    df.loc[df['qob'] == 2, 'black'].values,\n",
        "    df.loc[df['qob'] == 3, 'black'].values,\n",
        "    df.loc[df['qob'] == 4, 'black'].values)\n",
        "\n",
        "print(f_value)\n",
        "print(p_value)"
      ],
      "execution_count": 39,
      "outputs": [
        {
          "output_type": "stream",
          "name": "stdout",
          "text": [
            "5.094895785736597\n",
            "0.0015890866336663227\n"
          ]
        }
      ]
    },
    {
      "cell_type": "code",
      "metadata": {
        "colab": {
          "base_uri": "https://localhost:8080/"
        },
        "id": "iHhvoB31al-X",
        "outputId": "a03edb56-617c-4e90-fbf8-ffa6357a7ecf"
      },
      "source": [
        "# Compute the mean of the `black` variable distributed on the `region` variable.\n",
        "# TIP: Use the groupby function\n",
        "df['black'].groupby(df['region']).mean()"
      ],
      "execution_count": 40,
      "outputs": [
        {
          "output_type": "execute_result",
          "data": {
            "text/plain": [
              "region\n",
              "0    0.063282\n",
              "1    0.074249\n",
              "2    0.113553\n",
              "3    0.083293\n",
              "4    0.022906\n",
              "5    0.026044\n",
              "6    0.139506\n",
              "7    0.035527\n",
              "8    0.095247\n",
              "Name: black, dtype: float64"
            ]
          },
          "metadata": {},
          "execution_count": 40
        }
      ]
    },
    {
      "cell_type": "code",
      "metadata": {
        "colab": {
          "base_uri": "https://localhost:8080/"
        },
        "id": "ug1l4XHmaxxQ",
        "outputId": "d658899a-38df-4f94-bc1e-347911117162"
      },
      "source": [
        "df['region'].unique()"
      ],
      "execution_count": 41,
      "outputs": [
        {
          "output_type": "execute_result",
          "data": {
            "text/plain": [
              "array([0, 2, 8, 4, 5, 6, 7, 1, 3])"
            ]
          },
          "metadata": {},
          "execution_count": 41
        }
      ]
    },
    {
      "cell_type": "code",
      "metadata": {
        "colab": {
          "base_uri": "https://localhost:8080/"
        },
        "id": "6bFoLjPJbB3W",
        "outputId": "048ced43-a789-48da-d781-198b944a9055"
      },
      "source": [
        "f_value, p_value = sp.stats.f_oneway(\n",
        "    df.loc[df['region'] == 0, 'black'].values,\n",
        "    df.loc[df['region'] == 1, 'black'].values,\n",
        "    df.loc[df['region'] == 2, 'black'].values,\n",
        "    df.loc[df['region'] == 3, 'black'].values,\n",
        "    df.loc[df['region'] == 4, 'black'].values,\n",
        "    df.loc[df['region'] == 5, 'black'].values,\n",
        "    df.loc[df['region'] == 6, 'black'].values,\n",
        "    df.loc[df['region'] == 7, 'black'].values,\n",
        "    df.loc[df['region'] == 8, 'black'].values  \n",
        ")\n",
        "\n",
        "print(f_value)\n",
        "print(p_value)"
      ],
      "execution_count": 42,
      "outputs": [
        {
          "output_type": "stream",
          "name": "stdout",
          "text": [
            "675.422983010212\n",
            "0.0\n"
          ]
        }
      ]
    },
    {
      "cell_type": "code",
      "metadata": {
        "id": "LVcs_iJvWcy0"
      },
      "source": [
        "df_sample = df.sample(20000)"
      ],
      "execution_count": 43,
      "outputs": []
    },
    {
      "cell_type": "markdown",
      "metadata": {
        "id": "eFesrrF9d9T_"
      },
      "source": [
        "## Dealing with categorical variables\n",
        "**‘dummy variable trap’** — when we use dummy variables to encode a categorical feature and do not omit the baseline level from the model. This results in a perfect correlation between the dummy variables and the constant term."
      ]
    },
    {
      "cell_type": "code",
      "metadata": {
        "id": "18Mb67Y8VRrl"
      },
      "source": [
        "region = pd.get_dummies(df_sample.region, drop_first=True, prefix='region')"
      ],
      "execution_count": 44,
      "outputs": []
    },
    {
      "cell_type": "code",
      "metadata": {
        "colab": {
          "base_uri": "https://localhost:8080/",
          "height": 423
        },
        "id": "g0QWC9dZSZ9e",
        "outputId": "1cb88aae-002d-497d-c063-e7211da437bb"
      },
      "source": [
        "region"
      ],
      "execution_count": 45,
      "outputs": [
        {
          "output_type": "execute_result",
          "data": {
            "text/html": [
              "<div>\n",
              "<style scoped>\n",
              "    .dataframe tbody tr th:only-of-type {\n",
              "        vertical-align: middle;\n",
              "    }\n",
              "\n",
              "    .dataframe tbody tr th {\n",
              "        vertical-align: top;\n",
              "    }\n",
              "\n",
              "    .dataframe thead th {\n",
              "        text-align: right;\n",
              "    }\n",
              "</style>\n",
              "<table border=\"1\" class=\"dataframe\">\n",
              "  <thead>\n",
              "    <tr style=\"text-align: right;\">\n",
              "      <th></th>\n",
              "      <th>region_1</th>\n",
              "      <th>region_2</th>\n",
              "      <th>region_3</th>\n",
              "      <th>region_4</th>\n",
              "      <th>region_5</th>\n",
              "      <th>region_6</th>\n",
              "      <th>region_7</th>\n",
              "      <th>region_8</th>\n",
              "    </tr>\n",
              "  </thead>\n",
              "  <tbody>\n",
              "    <tr>\n",
              "      <th>220474</th>\n",
              "      <td>0</td>\n",
              "      <td>0</td>\n",
              "      <td>1</td>\n",
              "      <td>0</td>\n",
              "      <td>0</td>\n",
              "      <td>0</td>\n",
              "      <td>0</td>\n",
              "      <td>0</td>\n",
              "    </tr>\n",
              "    <tr>\n",
              "      <th>198650</th>\n",
              "      <td>0</td>\n",
              "      <td>0</td>\n",
              "      <td>0</td>\n",
              "      <td>0</td>\n",
              "      <td>0</td>\n",
              "      <td>1</td>\n",
              "      <td>0</td>\n",
              "      <td>0</td>\n",
              "    </tr>\n",
              "    <tr>\n",
              "      <th>321648</th>\n",
              "      <td>1</td>\n",
              "      <td>0</td>\n",
              "      <td>0</td>\n",
              "      <td>0</td>\n",
              "      <td>0</td>\n",
              "      <td>0</td>\n",
              "      <td>0</td>\n",
              "      <td>0</td>\n",
              "    </tr>\n",
              "    <tr>\n",
              "      <th>306</th>\n",
              "      <td>0</td>\n",
              "      <td>1</td>\n",
              "      <td>0</td>\n",
              "      <td>0</td>\n",
              "      <td>0</td>\n",
              "      <td>0</td>\n",
              "      <td>0</td>\n",
              "      <td>0</td>\n",
              "    </tr>\n",
              "    <tr>\n",
              "      <th>57332</th>\n",
              "      <td>0</td>\n",
              "      <td>0</td>\n",
              "      <td>0</td>\n",
              "      <td>0</td>\n",
              "      <td>0</td>\n",
              "      <td>1</td>\n",
              "      <td>0</td>\n",
              "      <td>0</td>\n",
              "    </tr>\n",
              "    <tr>\n",
              "      <th>...</th>\n",
              "      <td>...</td>\n",
              "      <td>...</td>\n",
              "      <td>...</td>\n",
              "      <td>...</td>\n",
              "      <td>...</td>\n",
              "      <td>...</td>\n",
              "      <td>...</td>\n",
              "      <td>...</td>\n",
              "    </tr>\n",
              "    <tr>\n",
              "      <th>69008</th>\n",
              "      <td>0</td>\n",
              "      <td>0</td>\n",
              "      <td>0</td>\n",
              "      <td>0</td>\n",
              "      <td>1</td>\n",
              "      <td>0</td>\n",
              "      <td>0</td>\n",
              "      <td>0</td>\n",
              "    </tr>\n",
              "    <tr>\n",
              "      <th>192812</th>\n",
              "      <td>0</td>\n",
              "      <td>0</td>\n",
              "      <td>0</td>\n",
              "      <td>0</td>\n",
              "      <td>0</td>\n",
              "      <td>0</td>\n",
              "      <td>0</td>\n",
              "      <td>1</td>\n",
              "    </tr>\n",
              "    <tr>\n",
              "      <th>45543</th>\n",
              "      <td>0</td>\n",
              "      <td>0</td>\n",
              "      <td>0</td>\n",
              "      <td>1</td>\n",
              "      <td>0</td>\n",
              "      <td>0</td>\n",
              "      <td>0</td>\n",
              "      <td>0</td>\n",
              "    </tr>\n",
              "    <tr>\n",
              "      <th>97302</th>\n",
              "      <td>0</td>\n",
              "      <td>0</td>\n",
              "      <td>0</td>\n",
              "      <td>0</td>\n",
              "      <td>0</td>\n",
              "      <td>0</td>\n",
              "      <td>0</td>\n",
              "      <td>0</td>\n",
              "    </tr>\n",
              "    <tr>\n",
              "      <th>164280</th>\n",
              "      <td>0</td>\n",
              "      <td>0</td>\n",
              "      <td>0</td>\n",
              "      <td>0</td>\n",
              "      <td>0</td>\n",
              "      <td>1</td>\n",
              "      <td>0</td>\n",
              "      <td>0</td>\n",
              "    </tr>\n",
              "  </tbody>\n",
              "</table>\n",
              "<p>20000 rows × 8 columns</p>\n",
              "</div>"
            ],
            "text/plain": [
              "        region_1  region_2  region_3  ...  region_6  region_7  region_8\n",
              "220474         0         0         1  ...         0         0         0\n",
              "198650         0         0         0  ...         1         0         0\n",
              "321648         1         0         0  ...         0         0         0\n",
              "306            0         1         0  ...         0         0         0\n",
              "57332          0         0         0  ...         1         0         0\n",
              "...          ...       ...       ...  ...       ...       ...       ...\n",
              "69008          0         0         0  ...         0         0         0\n",
              "192812         0         0         0  ...         0         0         1\n",
              "45543          0         0         0  ...         0         0         0\n",
              "97302          0         0         0  ...         0         0         0\n",
              "164280         0         0         0  ...         1         0         0\n",
              "\n",
              "[20000 rows x 8 columns]"
            ]
          },
          "metadata": {},
          "execution_count": 45
        }
      ]
    },
    {
      "cell_type": "code",
      "metadata": {
        "id": "pevRta9aoebb"
      },
      "source": [
        "X_1 = pd.concat([df_sample[['qob', 'black', 'married', 'smsa','edu']], region], axis=1)\n",
        "X_1 = sm.add_constant(X_1)"
      ],
      "execution_count": 46,
      "outputs": []
    },
    {
      "cell_type": "code",
      "metadata": {
        "colab": {
          "base_uri": "https://localhost:8080/",
          "height": 423
        },
        "id": "VuNb8qRLSuwP",
        "outputId": "2ad2e525-2996-4f79-c6f0-0b51fbbd4e56"
      },
      "source": [
        "X_1"
      ],
      "execution_count": 47,
      "outputs": [
        {
          "output_type": "execute_result",
          "data": {
            "text/html": [
              "<div>\n",
              "<style scoped>\n",
              "    .dataframe tbody tr th:only-of-type {\n",
              "        vertical-align: middle;\n",
              "    }\n",
              "\n",
              "    .dataframe tbody tr th {\n",
              "        vertical-align: top;\n",
              "    }\n",
              "\n",
              "    .dataframe thead th {\n",
              "        text-align: right;\n",
              "    }\n",
              "</style>\n",
              "<table border=\"1\" class=\"dataframe\">\n",
              "  <thead>\n",
              "    <tr style=\"text-align: right;\">\n",
              "      <th></th>\n",
              "      <th>const</th>\n",
              "      <th>qob</th>\n",
              "      <th>black</th>\n",
              "      <th>married</th>\n",
              "      <th>smsa</th>\n",
              "      <th>edu</th>\n",
              "      <th>region_1</th>\n",
              "      <th>region_2</th>\n",
              "      <th>region_3</th>\n",
              "      <th>region_4</th>\n",
              "      <th>region_5</th>\n",
              "      <th>region_6</th>\n",
              "      <th>region_7</th>\n",
              "      <th>region_8</th>\n",
              "    </tr>\n",
              "  </thead>\n",
              "  <tbody>\n",
              "    <tr>\n",
              "      <th>220474</th>\n",
              "      <td>1.0</td>\n",
              "      <td>1</td>\n",
              "      <td>0</td>\n",
              "      <td>1</td>\n",
              "      <td>1</td>\n",
              "      <td>12</td>\n",
              "      <td>0</td>\n",
              "      <td>0</td>\n",
              "      <td>1</td>\n",
              "      <td>0</td>\n",
              "      <td>0</td>\n",
              "      <td>0</td>\n",
              "      <td>0</td>\n",
              "      <td>0</td>\n",
              "    </tr>\n",
              "    <tr>\n",
              "      <th>198650</th>\n",
              "      <td>1.0</td>\n",
              "      <td>3</td>\n",
              "      <td>0</td>\n",
              "      <td>1</td>\n",
              "      <td>1</td>\n",
              "      <td>6</td>\n",
              "      <td>0</td>\n",
              "      <td>0</td>\n",
              "      <td>0</td>\n",
              "      <td>0</td>\n",
              "      <td>0</td>\n",
              "      <td>1</td>\n",
              "      <td>0</td>\n",
              "      <td>0</td>\n",
              "    </tr>\n",
              "    <tr>\n",
              "      <th>321648</th>\n",
              "      <td>1.0</td>\n",
              "      <td>2</td>\n",
              "      <td>0</td>\n",
              "      <td>1</td>\n",
              "      <td>1</td>\n",
              "      <td>10</td>\n",
              "      <td>1</td>\n",
              "      <td>0</td>\n",
              "      <td>0</td>\n",
              "      <td>0</td>\n",
              "      <td>0</td>\n",
              "      <td>0</td>\n",
              "      <td>0</td>\n",
              "      <td>0</td>\n",
              "    </tr>\n",
              "    <tr>\n",
              "      <th>306</th>\n",
              "      <td>1.0</td>\n",
              "      <td>3</td>\n",
              "      <td>1</td>\n",
              "      <td>0</td>\n",
              "      <td>1</td>\n",
              "      <td>12</td>\n",
              "      <td>0</td>\n",
              "      <td>1</td>\n",
              "      <td>0</td>\n",
              "      <td>0</td>\n",
              "      <td>0</td>\n",
              "      <td>0</td>\n",
              "      <td>0</td>\n",
              "      <td>0</td>\n",
              "    </tr>\n",
              "    <tr>\n",
              "      <th>57332</th>\n",
              "      <td>1.0</td>\n",
              "      <td>1</td>\n",
              "      <td>0</td>\n",
              "      <td>1</td>\n",
              "      <td>1</td>\n",
              "      <td>10</td>\n",
              "      <td>0</td>\n",
              "      <td>0</td>\n",
              "      <td>0</td>\n",
              "      <td>0</td>\n",
              "      <td>0</td>\n",
              "      <td>1</td>\n",
              "      <td>0</td>\n",
              "      <td>0</td>\n",
              "    </tr>\n",
              "    <tr>\n",
              "      <th>...</th>\n",
              "      <td>...</td>\n",
              "      <td>...</td>\n",
              "      <td>...</td>\n",
              "      <td>...</td>\n",
              "      <td>...</td>\n",
              "      <td>...</td>\n",
              "      <td>...</td>\n",
              "      <td>...</td>\n",
              "      <td>...</td>\n",
              "      <td>...</td>\n",
              "      <td>...</td>\n",
              "      <td>...</td>\n",
              "      <td>...</td>\n",
              "      <td>...</td>\n",
              "    </tr>\n",
              "    <tr>\n",
              "      <th>69008</th>\n",
              "      <td>1.0</td>\n",
              "      <td>1</td>\n",
              "      <td>0</td>\n",
              "      <td>1</td>\n",
              "      <td>1</td>\n",
              "      <td>12</td>\n",
              "      <td>0</td>\n",
              "      <td>0</td>\n",
              "      <td>0</td>\n",
              "      <td>0</td>\n",
              "      <td>1</td>\n",
              "      <td>0</td>\n",
              "      <td>0</td>\n",
              "      <td>0</td>\n",
              "    </tr>\n",
              "    <tr>\n",
              "      <th>192812</th>\n",
              "      <td>1.0</td>\n",
              "      <td>3</td>\n",
              "      <td>0</td>\n",
              "      <td>1</td>\n",
              "      <td>1</td>\n",
              "      <td>11</td>\n",
              "      <td>0</td>\n",
              "      <td>0</td>\n",
              "      <td>0</td>\n",
              "      <td>0</td>\n",
              "      <td>0</td>\n",
              "      <td>0</td>\n",
              "      <td>0</td>\n",
              "      <td>1</td>\n",
              "    </tr>\n",
              "    <tr>\n",
              "      <th>45543</th>\n",
              "      <td>1.0</td>\n",
              "      <td>3</td>\n",
              "      <td>0</td>\n",
              "      <td>1</td>\n",
              "      <td>1</td>\n",
              "      <td>13</td>\n",
              "      <td>0</td>\n",
              "      <td>0</td>\n",
              "      <td>0</td>\n",
              "      <td>1</td>\n",
              "      <td>0</td>\n",
              "      <td>0</td>\n",
              "      <td>0</td>\n",
              "      <td>0</td>\n",
              "    </tr>\n",
              "    <tr>\n",
              "      <th>97302</th>\n",
              "      <td>1.0</td>\n",
              "      <td>2</td>\n",
              "      <td>0</td>\n",
              "      <td>1</td>\n",
              "      <td>1</td>\n",
              "      <td>10</td>\n",
              "      <td>0</td>\n",
              "      <td>0</td>\n",
              "      <td>0</td>\n",
              "      <td>0</td>\n",
              "      <td>0</td>\n",
              "      <td>0</td>\n",
              "      <td>0</td>\n",
              "      <td>0</td>\n",
              "    </tr>\n",
              "    <tr>\n",
              "      <th>164280</th>\n",
              "      <td>1.0</td>\n",
              "      <td>2</td>\n",
              "      <td>0</td>\n",
              "      <td>1</td>\n",
              "      <td>1</td>\n",
              "      <td>16</td>\n",
              "      <td>0</td>\n",
              "      <td>0</td>\n",
              "      <td>0</td>\n",
              "      <td>0</td>\n",
              "      <td>0</td>\n",
              "      <td>1</td>\n",
              "      <td>0</td>\n",
              "      <td>0</td>\n",
              "    </tr>\n",
              "  </tbody>\n",
              "</table>\n",
              "<p>20000 rows × 14 columns</p>\n",
              "</div>"
            ],
            "text/plain": [
              "        const  qob  black  married  ...  region_5  region_6  region_7  region_8\n",
              "220474    1.0    1      0        1  ...         0         0         0         0\n",
              "198650    1.0    3      0        1  ...         0         1         0         0\n",
              "321648    1.0    2      0        1  ...         0         0         0         0\n",
              "306       1.0    3      1        0  ...         0         0         0         0\n",
              "57332     1.0    1      0        1  ...         0         1         0         0\n",
              "...       ...  ...    ...      ...  ...       ...       ...       ...       ...\n",
              "69008     1.0    1      0        1  ...         1         0         0         0\n",
              "192812    1.0    3      0        1  ...         0         0         0         1\n",
              "45543     1.0    3      0        1  ...         0         0         0         0\n",
              "97302     1.0    2      0        1  ...         0         0         0         0\n",
              "164280    1.0    2      0        1  ...         0         1         0         0\n",
              "\n",
              "[20000 rows x 14 columns]"
            ]
          },
          "metadata": {},
          "execution_count": 47
        }
      ]
    },
    {
      "cell_type": "markdown",
      "metadata": {
        "id": "z1z9mLkJUILz"
      },
      "source": [
        "### getting names right:"
      ]
    },
    {
      "cell_type": "code",
      "metadata": {
        "id": "1Ixh6AAwULQ0"
      },
      "source": [
        "X_1_copy = X_1.sample(10)"
      ],
      "execution_count": 54,
      "outputs": []
    },
    {
      "cell_type": "code",
      "metadata": {
        "colab": {
          "base_uri": "https://localhost:8080/"
        },
        "id": "7k7c-FOFUZ_s",
        "outputId": "d9cc9a8b-b8db-4d41-f7bd-197e50340203"
      },
      "source": [
        "X_1_copy.columns"
      ],
      "execution_count": 56,
      "outputs": [
        {
          "output_type": "execute_result",
          "data": {
            "text/plain": [
              "Index(['const', 'qob', 'black', 'married', 'smsa', 'edu', 'region_1',\n",
              "       'region_2', 'region_3', 'region_4', 'region_5', 'region_6', 'region_7',\n",
              "       'region_8'],\n",
              "      dtype='object')"
            ]
          },
          "metadata": {},
          "execution_count": 56
        }
      ]
    },
    {
      "cell_type": "code",
      "metadata": {
        "id": "HzF_f10gUO8d"
      },
      "source": [
        "X_1_copy.columns = ['const', 'qob', 'black', 'married', 'smsa', 'edu', 'Aalborg',\n",
        "       'Aarhus', 'region_3', 'region_4', 'region_5', 'region_6', 'region_7',\n",
        "       'region_8']"
      ],
      "execution_count": 57,
      "outputs": []
    },
    {
      "cell_type": "code",
      "metadata": {
        "colab": {
          "base_uri": "https://localhost:8080/",
          "height": 363
        },
        "id": "oDarxH0NUhO2",
        "outputId": "eece4e67-772f-4bfa-94c4-25db16a489ca"
      },
      "source": [
        "X_1_copy"
      ],
      "execution_count": 58,
      "outputs": [
        {
          "output_type": "execute_result",
          "data": {
            "text/html": [
              "<div>\n",
              "<style scoped>\n",
              "    .dataframe tbody tr th:only-of-type {\n",
              "        vertical-align: middle;\n",
              "    }\n",
              "\n",
              "    .dataframe tbody tr th {\n",
              "        vertical-align: top;\n",
              "    }\n",
              "\n",
              "    .dataframe thead th {\n",
              "        text-align: right;\n",
              "    }\n",
              "</style>\n",
              "<table border=\"1\" class=\"dataframe\">\n",
              "  <thead>\n",
              "    <tr style=\"text-align: right;\">\n",
              "      <th></th>\n",
              "      <th>const</th>\n",
              "      <th>qob</th>\n",
              "      <th>black</th>\n",
              "      <th>married</th>\n",
              "      <th>smsa</th>\n",
              "      <th>edu</th>\n",
              "      <th>Aalborg</th>\n",
              "      <th>Aarhus</th>\n",
              "      <th>region_3</th>\n",
              "      <th>region_4</th>\n",
              "      <th>region_5</th>\n",
              "      <th>region_6</th>\n",
              "      <th>region_7</th>\n",
              "      <th>region_8</th>\n",
              "    </tr>\n",
              "  </thead>\n",
              "  <tbody>\n",
              "    <tr>\n",
              "      <th>150826</th>\n",
              "      <td>1.0</td>\n",
              "      <td>4</td>\n",
              "      <td>0</td>\n",
              "      <td>1</td>\n",
              "      <td>0</td>\n",
              "      <td>15</td>\n",
              "      <td>0</td>\n",
              "      <td>0</td>\n",
              "      <td>0</td>\n",
              "      <td>0</td>\n",
              "      <td>0</td>\n",
              "      <td>0</td>\n",
              "      <td>0</td>\n",
              "      <td>0</td>\n",
              "    </tr>\n",
              "    <tr>\n",
              "      <th>21092</th>\n",
              "      <td>1.0</td>\n",
              "      <td>1</td>\n",
              "      <td>1</td>\n",
              "      <td>1</td>\n",
              "      <td>1</td>\n",
              "      <td>13</td>\n",
              "      <td>0</td>\n",
              "      <td>0</td>\n",
              "      <td>0</td>\n",
              "      <td>0</td>\n",
              "      <td>0</td>\n",
              "      <td>0</td>\n",
              "      <td>0</td>\n",
              "      <td>1</td>\n",
              "    </tr>\n",
              "    <tr>\n",
              "      <th>158799</th>\n",
              "      <td>1.0</td>\n",
              "      <td>4</td>\n",
              "      <td>0</td>\n",
              "      <td>1</td>\n",
              "      <td>0</td>\n",
              "      <td>15</td>\n",
              "      <td>0</td>\n",
              "      <td>0</td>\n",
              "      <td>0</td>\n",
              "      <td>0</td>\n",
              "      <td>0</td>\n",
              "      <td>1</td>\n",
              "      <td>0</td>\n",
              "      <td>0</td>\n",
              "    </tr>\n",
              "    <tr>\n",
              "      <th>46502</th>\n",
              "      <td>1.0</td>\n",
              "      <td>2</td>\n",
              "      <td>0</td>\n",
              "      <td>1</td>\n",
              "      <td>1</td>\n",
              "      <td>12</td>\n",
              "      <td>0</td>\n",
              "      <td>0</td>\n",
              "      <td>0</td>\n",
              "      <td>0</td>\n",
              "      <td>0</td>\n",
              "      <td>1</td>\n",
              "      <td>0</td>\n",
              "      <td>0</td>\n",
              "    </tr>\n",
              "    <tr>\n",
              "      <th>133889</th>\n",
              "      <td>1.0</td>\n",
              "      <td>2</td>\n",
              "      <td>0</td>\n",
              "      <td>1</td>\n",
              "      <td>1</td>\n",
              "      <td>16</td>\n",
              "      <td>0</td>\n",
              "      <td>0</td>\n",
              "      <td>0</td>\n",
              "      <td>0</td>\n",
              "      <td>0</td>\n",
              "      <td>0</td>\n",
              "      <td>0</td>\n",
              "      <td>1</td>\n",
              "    </tr>\n",
              "    <tr>\n",
              "      <th>184971</th>\n",
              "      <td>1.0</td>\n",
              "      <td>4</td>\n",
              "      <td>0</td>\n",
              "      <td>1</td>\n",
              "      <td>1</td>\n",
              "      <td>10</td>\n",
              "      <td>1</td>\n",
              "      <td>0</td>\n",
              "      <td>0</td>\n",
              "      <td>0</td>\n",
              "      <td>0</td>\n",
              "      <td>0</td>\n",
              "      <td>0</td>\n",
              "      <td>0</td>\n",
              "    </tr>\n",
              "    <tr>\n",
              "      <th>58231</th>\n",
              "      <td>1.0</td>\n",
              "      <td>2</td>\n",
              "      <td>0</td>\n",
              "      <td>0</td>\n",
              "      <td>1</td>\n",
              "      <td>16</td>\n",
              "      <td>0</td>\n",
              "      <td>0</td>\n",
              "      <td>0</td>\n",
              "      <td>0</td>\n",
              "      <td>0</td>\n",
              "      <td>1</td>\n",
              "      <td>0</td>\n",
              "      <td>0</td>\n",
              "    </tr>\n",
              "    <tr>\n",
              "      <th>65395</th>\n",
              "      <td>1.0</td>\n",
              "      <td>2</td>\n",
              "      <td>0</td>\n",
              "      <td>0</td>\n",
              "      <td>1</td>\n",
              "      <td>12</td>\n",
              "      <td>0</td>\n",
              "      <td>0</td>\n",
              "      <td>0</td>\n",
              "      <td>0</td>\n",
              "      <td>1</td>\n",
              "      <td>0</td>\n",
              "      <td>0</td>\n",
              "      <td>0</td>\n",
              "    </tr>\n",
              "    <tr>\n",
              "      <th>47575</th>\n",
              "      <td>1.0</td>\n",
              "      <td>1</td>\n",
              "      <td>0</td>\n",
              "      <td>1</td>\n",
              "      <td>1</td>\n",
              "      <td>12</td>\n",
              "      <td>0</td>\n",
              "      <td>0</td>\n",
              "      <td>0</td>\n",
              "      <td>0</td>\n",
              "      <td>0</td>\n",
              "      <td>1</td>\n",
              "      <td>0</td>\n",
              "      <td>0</td>\n",
              "    </tr>\n",
              "    <tr>\n",
              "      <th>39384</th>\n",
              "      <td>1.0</td>\n",
              "      <td>3</td>\n",
              "      <td>0</td>\n",
              "      <td>0</td>\n",
              "      <td>1</td>\n",
              "      <td>9</td>\n",
              "      <td>0</td>\n",
              "      <td>0</td>\n",
              "      <td>1</td>\n",
              "      <td>0</td>\n",
              "      <td>0</td>\n",
              "      <td>0</td>\n",
              "      <td>0</td>\n",
              "      <td>0</td>\n",
              "    </tr>\n",
              "  </tbody>\n",
              "</table>\n",
              "</div>"
            ],
            "text/plain": [
              "        const  qob  black  married  ...  region_5  region_6  region_7  region_8\n",
              "150826    1.0    4      0        1  ...         0         0         0         0\n",
              "21092     1.0    1      1        1  ...         0         0         0         1\n",
              "158799    1.0    4      0        1  ...         0         1         0         0\n",
              "46502     1.0    2      0        1  ...         0         1         0         0\n",
              "133889    1.0    2      0        1  ...         0         0         0         1\n",
              "184971    1.0    4      0        1  ...         0         0         0         0\n",
              "58231     1.0    2      0        0  ...         0         1         0         0\n",
              "65395     1.0    2      0        0  ...         1         0         0         0\n",
              "47575     1.0    1      0        1  ...         0         1         0         0\n",
              "39384     1.0    3      0        0  ...         0         0         0         0\n",
              "\n",
              "[10 rows x 14 columns]"
            ]
          },
          "metadata": {},
          "execution_count": 58
        }
      ]
    },
    {
      "cell_type": "markdown",
      "metadata": {
        "id": "XizZKRwoTIKt"
      },
      "source": [
        "## What about variables with \"text\"?"
      ]
    },
    {
      "cell_type": "code",
      "metadata": {
        "id": "HPtKngAkTFkw"
      },
      "source": [
        "df_txt = df.sample(15)"
      ],
      "execution_count": 48,
      "outputs": []
    },
    {
      "cell_type": "code",
      "metadata": {
        "id": "vhAEHfQkTOs1"
      },
      "source": [
        "df_txt['smoker'] = 5*['0_Smoker','1_Non-smoker','2_Party-smoker']"
      ],
      "execution_count": 59,
      "outputs": []
    },
    {
      "cell_type": "code",
      "metadata": {
        "colab": {
          "base_uri": "https://localhost:8080/",
          "height": 519
        },
        "id": "76NMiN7qTeL9",
        "outputId": "c6469eea-9d76-4406-88f9-ca0fc4c15bc0"
      },
      "source": [
        "# create dummy variables from categorical and get rid of the 1st for having a baseline in the OLS\n",
        "# drop_first kicks out the one that comes first in the ABC\n",
        "\n",
        "pd.get_dummies(df_txt.smoker, drop_first=True)"
      ],
      "execution_count": 60,
      "outputs": [
        {
          "output_type": "execute_result",
          "data": {
            "text/html": [
              "<div>\n",
              "<style scoped>\n",
              "    .dataframe tbody tr th:only-of-type {\n",
              "        vertical-align: middle;\n",
              "    }\n",
              "\n",
              "    .dataframe tbody tr th {\n",
              "        vertical-align: top;\n",
              "    }\n",
              "\n",
              "    .dataframe thead th {\n",
              "        text-align: right;\n",
              "    }\n",
              "</style>\n",
              "<table border=\"1\" class=\"dataframe\">\n",
              "  <thead>\n",
              "    <tr style=\"text-align: right;\">\n",
              "      <th></th>\n",
              "      <th>1_Non-smoker</th>\n",
              "      <th>2_Party-smoker</th>\n",
              "    </tr>\n",
              "  </thead>\n",
              "  <tbody>\n",
              "    <tr>\n",
              "      <th>113710</th>\n",
              "      <td>0</td>\n",
              "      <td>0</td>\n",
              "    </tr>\n",
              "    <tr>\n",
              "      <th>149096</th>\n",
              "      <td>1</td>\n",
              "      <td>0</td>\n",
              "    </tr>\n",
              "    <tr>\n",
              "      <th>164575</th>\n",
              "      <td>0</td>\n",
              "      <td>1</td>\n",
              "    </tr>\n",
              "    <tr>\n",
              "      <th>290373</th>\n",
              "      <td>0</td>\n",
              "      <td>0</td>\n",
              "    </tr>\n",
              "    <tr>\n",
              "      <th>16741</th>\n",
              "      <td>1</td>\n",
              "      <td>0</td>\n",
              "    </tr>\n",
              "    <tr>\n",
              "      <th>252519</th>\n",
              "      <td>0</td>\n",
              "      <td>1</td>\n",
              "    </tr>\n",
              "    <tr>\n",
              "      <th>103925</th>\n",
              "      <td>0</td>\n",
              "      <td>0</td>\n",
              "    </tr>\n",
              "    <tr>\n",
              "      <th>196071</th>\n",
              "      <td>1</td>\n",
              "      <td>0</td>\n",
              "    </tr>\n",
              "    <tr>\n",
              "      <th>318517</th>\n",
              "      <td>0</td>\n",
              "      <td>1</td>\n",
              "    </tr>\n",
              "    <tr>\n",
              "      <th>190205</th>\n",
              "      <td>0</td>\n",
              "      <td>0</td>\n",
              "    </tr>\n",
              "    <tr>\n",
              "      <th>263732</th>\n",
              "      <td>1</td>\n",
              "      <td>0</td>\n",
              "    </tr>\n",
              "    <tr>\n",
              "      <th>305958</th>\n",
              "      <td>0</td>\n",
              "      <td>1</td>\n",
              "    </tr>\n",
              "    <tr>\n",
              "      <th>290392</th>\n",
              "      <td>0</td>\n",
              "      <td>0</td>\n",
              "    </tr>\n",
              "    <tr>\n",
              "      <th>58991</th>\n",
              "      <td>1</td>\n",
              "      <td>0</td>\n",
              "    </tr>\n",
              "    <tr>\n",
              "      <th>63196</th>\n",
              "      <td>0</td>\n",
              "      <td>1</td>\n",
              "    </tr>\n",
              "  </tbody>\n",
              "</table>\n",
              "</div>"
            ],
            "text/plain": [
              "        1_Non-smoker  2_Party-smoker\n",
              "113710             0               0\n",
              "149096             1               0\n",
              "164575             0               1\n",
              "290373             0               0\n",
              "16741              1               0\n",
              "252519             0               1\n",
              "103925             0               0\n",
              "196071             1               0\n",
              "318517             0               1\n",
              "190205             0               0\n",
              "263732             1               0\n",
              "305958             0               1\n",
              "290392             0               0\n",
              "58991              1               0\n",
              "63196              0               1"
            ]
          },
          "metadata": {},
          "execution_count": 60
        }
      ]
    },
    {
      "cell_type": "markdown",
      "metadata": {
        "id": "baIrgtwqeE4x"
      },
      "source": [
        "## creating the final model inputs and estimating the model"
      ]
    },
    {
      "cell_type": "code",
      "metadata": {
        "id": "7vo1_jUsWnbP"
      },
      "source": [
        "y_1 = df_sample['logwage']"
      ],
      "execution_count": 61,
      "outputs": []
    },
    {
      "cell_type": "code",
      "metadata": {
        "id": "Nn3W3fZfqMzF"
      },
      "source": [
        "model_1 = sm.OLS(y_1, X_1)"
      ],
      "execution_count": 62,
      "outputs": []
    },
    {
      "cell_type": "code",
      "metadata": {
        "id": "BUY_fRlJI61d"
      },
      "source": [
        "model_1_res = model_1.fit()"
      ],
      "execution_count": 63,
      "outputs": []
    },
    {
      "cell_type": "code",
      "metadata": {
        "colab": {
          "base_uri": "https://localhost:8080/",
          "height": 707
        },
        "id": "u1WrH8L6JGmX",
        "outputId": "705c5cd9-11eb-4e50-a91b-d1b0601c66bb"
      },
      "source": [
        "model_1_res.summary()"
      ],
      "execution_count": 64,
      "outputs": [
        {
          "output_type": "execute_result",
          "data": {
            "text/html": [
              "<table class=\"simpletable\">\n",
              "<caption>OLS Regression Results</caption>\n",
              "<tr>\n",
              "  <th>Dep. Variable:</th>         <td>logwage</td>     <th>  R-squared:         </th> <td>   0.168</td> \n",
              "</tr>\n",
              "<tr>\n",
              "  <th>Model:</th>                   <td>OLS</td>       <th>  Adj. R-squared:    </th> <td>   0.168</td> \n",
              "</tr>\n",
              "<tr>\n",
              "  <th>Method:</th>             <td>Least Squares</td>  <th>  F-statistic:       </th> <td>   311.3</td> \n",
              "</tr>\n",
              "<tr>\n",
              "  <th>Date:</th>             <td>Mon, 29 Nov 2021</td> <th>  Prob (F-statistic):</th>  <td>  0.00</td>  \n",
              "</tr>\n",
              "<tr>\n",
              "  <th>Time:</th>                 <td>10:53:34</td>     <th>  Log-Likelihood:    </th> <td> -18568.</td> \n",
              "</tr>\n",
              "<tr>\n",
              "  <th>No. Observations:</th>      <td> 20000</td>      <th>  AIC:               </th> <td>3.716e+04</td>\n",
              "</tr>\n",
              "<tr>\n",
              "  <th>Df Residuals:</th>          <td> 19986</td>      <th>  BIC:               </th> <td>3.727e+04</td>\n",
              "</tr>\n",
              "<tr>\n",
              "  <th>Df Model:</th>              <td>    13</td>      <th>                     </th>     <td> </td>    \n",
              "</tr>\n",
              "<tr>\n",
              "  <th>Covariance Type:</th>      <td>nonrobust</td>    <th>                     </th>     <td> </td>    \n",
              "</tr>\n",
              "</table>\n",
              "<table class=\"simpletable\">\n",
              "<tr>\n",
              "      <td></td>        <th>coef</th>     <th>std err</th>      <th>t</th>      <th>P>|t|</th>  <th>[0.025</th>    <th>0.975]</th>  \n",
              "</tr>\n",
              "<tr>\n",
              "  <th>const</th>    <td>    4.8395</td> <td>    0.028</td> <td>  174.838</td> <td> 0.000</td> <td>    4.785</td> <td>    4.894</td>\n",
              "</tr>\n",
              "<tr>\n",
              "  <th>qob</th>      <td>   -0.0008</td> <td>    0.004</td> <td>   -0.198</td> <td> 0.843</td> <td>   -0.008</td> <td>    0.007</td>\n",
              "</tr>\n",
              "<tr>\n",
              "  <th>black</th>    <td>   -0.2380</td> <td>    0.016</td> <td>  -14.772</td> <td> 0.000</td> <td>   -0.270</td> <td>   -0.206</td>\n",
              "</tr>\n",
              "<tr>\n",
              "  <th>married</th>  <td>    0.2157</td> <td>    0.013</td> <td>   17.097</td> <td> 0.000</td> <td>    0.191</td> <td>    0.240</td>\n",
              "</tr>\n",
              "<tr>\n",
              "  <th>smsa</th>     <td>    0.1788</td> <td>    0.011</td> <td>   15.566</td> <td> 0.000</td> <td>    0.156</td> <td>    0.201</td>\n",
              "</tr>\n",
              "<tr>\n",
              "  <th>edu</th>      <td>    0.0641</td> <td>    0.001</td> <td>   47.568</td> <td> 0.000</td> <td>    0.061</td> <td>    0.067</td>\n",
              "</tr>\n",
              "<tr>\n",
              "  <th>region_1</th> <td>    0.0145</td> <td>    0.016</td> <td>    0.922</td> <td> 0.356</td> <td>   -0.016</td> <td>    0.045</td>\n",
              "</tr>\n",
              "<tr>\n",
              "  <th>region_2</th> <td>   -0.1749</td> <td>    0.021</td> <td>   -8.316</td> <td> 0.000</td> <td>   -0.216</td> <td>   -0.134</td>\n",
              "</tr>\n",
              "<tr>\n",
              "  <th>region_3</th> <td>   -0.0508</td> <td>    0.016</td> <td>   -3.094</td> <td> 0.002</td> <td>   -0.083</td> <td>   -0.019</td>\n",
              "</tr>\n",
              "<tr>\n",
              "  <th>region_4</th> <td>   -0.1349</td> <td>    0.024</td> <td>   -5.680</td> <td> 0.000</td> <td>   -0.181</td> <td>   -0.088</td>\n",
              "</tr>\n",
              "<tr>\n",
              "  <th>region_5</th> <td>   -0.1261</td> <td>    0.022</td> <td>   -5.648</td> <td> 0.000</td> <td>   -0.170</td> <td>   -0.082</td>\n",
              "</tr>\n",
              "<tr>\n",
              "  <th>region_6</th> <td>   -0.1483</td> <td>    0.016</td> <td>   -9.041</td> <td> 0.000</td> <td>   -0.180</td> <td>   -0.116</td>\n",
              "</tr>\n",
              "<tr>\n",
              "  <th>region_7</th> <td>   -0.1189</td> <td>    0.020</td> <td>   -5.979</td> <td> 0.000</td> <td>   -0.158</td> <td>   -0.080</td>\n",
              "</tr>\n",
              "<tr>\n",
              "  <th>region_8</th> <td>   -0.0862</td> <td>    0.019</td> <td>   -4.611</td> <td> 0.000</td> <td>   -0.123</td> <td>   -0.050</td>\n",
              "</tr>\n",
              "</table>\n",
              "<table class=\"simpletable\">\n",
              "<tr>\n",
              "  <th>Omnibus:</th>       <td>12157.984</td> <th>  Durbin-Watson:     </th>  <td>   2.010</td> \n",
              "</tr>\n",
              "<tr>\n",
              "  <th>Prob(Omnibus):</th>  <td> 0.000</td>   <th>  Jarque-Bera (JB):  </th> <td>317264.041</td>\n",
              "</tr>\n",
              "<tr>\n",
              "  <th>Skew:</th>           <td>-2.464</td>   <th>  Prob(JB):          </th>  <td>    0.00</td> \n",
              "</tr>\n",
              "<tr>\n",
              "  <th>Kurtosis:</th>       <td>21.879</td>   <th>  Cond. No.          </th>  <td>    131.</td> \n",
              "</tr>\n",
              "</table><br/><br/>Warnings:<br/>[1] Standard Errors assume that the covariance matrix of the errors is correctly specified."
            ],
            "text/plain": [
              "<class 'statsmodels.iolib.summary.Summary'>\n",
              "\"\"\"\n",
              "                            OLS Regression Results                            \n",
              "==============================================================================\n",
              "Dep. Variable:                logwage   R-squared:                       0.168\n",
              "Model:                            OLS   Adj. R-squared:                  0.168\n",
              "Method:                 Least Squares   F-statistic:                     311.3\n",
              "Date:                Mon, 29 Nov 2021   Prob (F-statistic):               0.00\n",
              "Time:                        10:53:34   Log-Likelihood:                -18568.\n",
              "No. Observations:               20000   AIC:                         3.716e+04\n",
              "Df Residuals:                   19986   BIC:                         3.727e+04\n",
              "Df Model:                          13                                         \n",
              "Covariance Type:            nonrobust                                         \n",
              "==============================================================================\n",
              "                 coef    std err          t      P>|t|      [0.025      0.975]\n",
              "------------------------------------------------------------------------------\n",
              "const          4.8395      0.028    174.838      0.000       4.785       4.894\n",
              "qob           -0.0008      0.004     -0.198      0.843      -0.008       0.007\n",
              "black         -0.2380      0.016    -14.772      0.000      -0.270      -0.206\n",
              "married        0.2157      0.013     17.097      0.000       0.191       0.240\n",
              "smsa           0.1788      0.011     15.566      0.000       0.156       0.201\n",
              "edu            0.0641      0.001     47.568      0.000       0.061       0.067\n",
              "region_1       0.0145      0.016      0.922      0.356      -0.016       0.045\n",
              "region_2      -0.1749      0.021     -8.316      0.000      -0.216      -0.134\n",
              "region_3      -0.0508      0.016     -3.094      0.002      -0.083      -0.019\n",
              "region_4      -0.1349      0.024     -5.680      0.000      -0.181      -0.088\n",
              "region_5      -0.1261      0.022     -5.648      0.000      -0.170      -0.082\n",
              "region_6      -0.1483      0.016     -9.041      0.000      -0.180      -0.116\n",
              "region_7      -0.1189      0.020     -5.979      0.000      -0.158      -0.080\n",
              "region_8      -0.0862      0.019     -4.611      0.000      -0.123      -0.050\n",
              "==============================================================================\n",
              "Omnibus:                    12157.984   Durbin-Watson:                   2.010\n",
              "Prob(Omnibus):                  0.000   Jarque-Bera (JB):           317264.041\n",
              "Skew:                          -2.464   Prob(JB):                         0.00\n",
              "Kurtosis:                      21.879   Cond. No.                         131.\n",
              "==============================================================================\n",
              "\n",
              "Warnings:\n",
              "[1] Standard Errors assume that the covariance matrix of the errors is correctly specified.\n",
              "\"\"\""
            ]
          },
          "metadata": {},
          "execution_count": 64
        }
      ]
    },
    {
      "cell_type": "markdown",
      "metadata": {
        "id": "FF3D3ghMn5AB"
      },
      "source": [
        "## Gauss-Markov Theorem\n",
        "\n",
        "In the following a more thorough walktrough of testing OLS assumptions"
      ]
    },
    {
      "cell_type": "markdown",
      "metadata": {
        "id": "v1fJMPE0oOFa"
      },
      "source": [
        "## Linearity of the model\n",
        "\n",
        "In the best case what we try to explain \"is more or less linear\". If that's not the case i.e. the explained reality is much more complex, then we will not be very successful explaining it with a linear model.\n",
        "\n",
        "We can check that by plotting predictions vs observed values.\n",
        "Predictions means here: \"What outcome would the model guess for each sample\"?\n",
        "\n",
        "In the best case (the model is perfect and explains reality great) the predicted values would correlate perfectly with the observed ones and when plotted (scatterplot) align on one diagonal line.\n",
        "\n",
        "Another useful check can be performed by looking at the distribution of the residuals and their mean value. If they are "
      ]
    },
    {
      "cell_type": "code",
      "metadata": {
        "id": "R0g5eNp8ajOu"
      },
      "source": [
        "# use the fitted (trained) model to predict y_values\n",
        "y_pred = model_1_res.predict(X_1)"
      ],
      "execution_count": 65,
      "outputs": []
    },
    {
      "cell_type": "code",
      "metadata": {
        "id": "BKylTJ-Hbh4K"
      },
      "source": [
        "# get residuals\n",
        "resids_1 = model_1_res.resid"
      ],
      "execution_count": 66,
      "outputs": []
    },
    {
      "cell_type": "code",
      "metadata": {
        "colab": {
          "base_uri": "https://localhost:8080/",
          "height": 297
        },
        "id": "lmSb-koecCxr",
        "outputId": "cda21842-583b-4076-fa5f-50a79ac0cd35"
      },
      "source": [
        "# plot predicted vs observed y values\n",
        "fig = sns.regplot(x=y_pred, y=y_1, line_kws={'color': 'red'})\n",
        "fig.set_xlabel(\"predicted\", fontsize = 10)\n",
        "fig.set_ylabel(\"observed\", fontsize = 10)"
      ],
      "execution_count": 67,
      "outputs": [
        {
          "output_type": "execute_result",
          "data": {
            "text/plain": [
              "Text(0, 0.5, 'observed')"
            ]
          },
          "metadata": {},
          "execution_count": 67
        },
        {
          "output_type": "display_data",
          "data": {
            "image/png": "[encoded data removed]",
            "text/plain": [
              "<Figure size 432x288 with 1 Axes>"
            ]
          },
          "metadata": {
            "needs_background": "light"
          }
        }
      ]
    },
    {
      "cell_type": "code",
      "metadata": {
        "colab": {
          "base_uri": "https://localhost:8080/",
          "height": 297
        },
        "id": "kGJCEY89dURo",
        "outputId": "4f71d40a-0435-49b2-e0de-814a50db9011"
      },
      "source": [
        "# plot predicted vs residuals y values\n",
        "fig = sns.regplot(x=y_pred, y=resids_1, line_kws={'color': 'red'})\n",
        "fig.set_xlabel(\"predicted\", fontsize = 10)\n",
        "fig.set_ylabel(\"residuals\", fontsize = 10)"
      ],
      "execution_count": 68,
      "outputs": [
        {
          "output_type": "execute_result",
          "data": {
            "text/plain": [
              "Text(0, 0.5, 'residuals')"
            ]
          },
          "metadata": {},
          "execution_count": 68
        },
        {
          "output_type": "display_data",
          "data": {
            "image/png": "[encoded data removed]",
            "text/plain": [
              "<Figure size 432x288 with 1 Axes>"
            ]
          },
          "metadata": {
            "needs_background": "light"
          }
        }
      ]
    },
    {
      "cell_type": "markdown",
      "metadata": {
        "id": "I9lVLBULX-wd"
      },
      "source": [
        "## Expectation (mean) of residuals is zero\n",
        "We can also check whether the (expected) mean of the residuals = 0"
      ]
    },
    {
      "cell_type": "code",
      "metadata": {
        "colab": {
          "base_uri": "https://localhost:8080/"
        },
        "id": "OaEQSiwXLpLE",
        "outputId": "3b4b084f-7531-4889-e9e5-789fe821ed27"
      },
      "source": [
        "model_1_res.resid.mean()"
      ],
      "execution_count": 69,
      "outputs": [
        {
          "output_type": "execute_result",
          "data": {
            "text/plain": [
              "3.106808144082152e-14"
            ]
          },
          "metadata": {},
          "execution_count": 69
        }
      ]
    },
    {
      "cell_type": "markdown",
      "metadata": {
        "id": "YsYzDtz9dgOr"
      },
      "source": [
        "## No (perfect) multicollinearity\n",
        "\n",
        "the independant variables should be not perfectly correlated. To test for multicollinearity we usually use the VIF tes"
      ]
    },
    {
      "cell_type": "code",
      "metadata": {
        "id": "MwiXFUYDdnqe"
      },
      "source": [
        "from statsmodels.stats.outliers_influence import variance_inflation_factor"
      ],
      "execution_count": 70,
      "outputs": []
    },
    {
      "cell_type": "code",
      "metadata": {
        "colab": {
          "base_uri": "https://localhost:8080/"
        },
        "id": "unbROghRfAHL",
        "outputId": "f6435021-76b7-4b15-f46e-da6719f4f1ae"
      },
      "source": [
        "variance_inflation_factor(X_1.values, 1)"
      ],
      "execution_count": 71,
      "outputs": [
        {
          "output_type": "execute_result",
          "data": {
            "text/plain": [
              "1.0007477924767916"
            ]
          },
          "metadata": {},
          "execution_count": 71
        }
      ]
    },
    {
      "cell_type": "code",
      "metadata": {
        "colab": {
          "base_uri": "https://localhost:8080/",
          "height": 81
        },
        "id": "L12nDk_je_vo",
        "outputId": "83c1476b-c10a-49b6-d510-47454371c996"
      },
      "source": [
        "# putting it all together in one cell\n",
        "vif = [variance_inflation_factor(X_1.values, i) for i in range(X_1.shape[1])]\n",
        "\n",
        "pd.DataFrame({'vif': vif[1:]}, index=X_1.columns[1:]).T"
      ],
      "execution_count": 72,
      "outputs": [
        {
          "output_type": "execute_result",
          "data": {
            "text/html": [
              "<div>\n",
              "<style scoped>\n",
              "    .dataframe tbody tr th:only-of-type {\n",
              "        vertical-align: middle;\n",
              "    }\n",
              "\n",
              "    .dataframe tbody tr th {\n",
              "        vertical-align: top;\n",
              "    }\n",
              "\n",
              "    .dataframe thead th {\n",
              "        text-align: right;\n",
              "    }\n",
              "</style>\n",
              "<table border=\"1\" class=\"dataframe\">\n",
              "  <thead>\n",
              "    <tr style=\"text-align: right;\">\n",
              "      <th></th>\n",
              "      <th>qob</th>\n",
              "      <th>black</th>\n",
              "      <th>married</th>\n",
              "      <th>smsa</th>\n",
              "      <th>edu</th>\n",
              "      <th>region_1</th>\n",
              "      <th>region_2</th>\n",
              "      <th>region_3</th>\n",
              "      <th>region_4</th>\n",
              "      <th>region_5</th>\n",
              "      <th>region_6</th>\n",
              "      <th>region_7</th>\n",
              "      <th>region_8</th>\n",
              "    </tr>\n",
              "  </thead>\n",
              "  <tbody>\n",
              "    <tr>\n",
              "      <th>vif</th>\n",
              "      <td>1.000748</td>\n",
              "      <td>1.051382</td>\n",
              "      <td>1.018882</td>\n",
              "      <td>1.059867</td>\n",
              "      <td>1.056429</td>\n",
              "      <td>2.132765</td>\n",
              "      <td>1.509313</td>\n",
              "      <td>1.935747</td>\n",
              "      <td>1.323215</td>\n",
              "      <td>1.365425</td>\n",
              "      <td>2.010501</td>\n",
              "      <td>1.549932</td>\n",
              "      <td>1.630159</td>\n",
              "    </tr>\n",
              "  </tbody>\n",
              "</table>\n",
              "</div>"
            ],
            "text/plain": [
              "          qob     black   married  ...  region_6  region_7  region_8\n",
              "vif  1.000748  1.051382  1.018882  ...  2.010501  1.549932  1.630159\n",
              "\n",
              "[1 rows x 13 columns]"
            ]
          },
          "metadata": {},
          "execution_count": 72
        }
      ]
    },
    {
      "cell_type": "markdown",
      "metadata": {
        "id": "G6wDondCfZdi"
      },
      "source": [
        "Great! no multicollinearity!\n",
        "Values over 10 would be problematic"
      ]
    },
    {
      "cell_type": "markdown",
      "metadata": {
        "id": "V986NcxIic9d"
      },
      "source": [
        "## homoscedasticity of errors\n",
        "the errors have equal variance — homoscedasticity of errors means that residuals ar not changing variance as a function of increasing fitted values (predictions). In the above plot (2nd plot) things seem more or less OK but we can also use a statistical test for thet e.g. the Bruesch-Pagan test (BP)"
      ]
    },
    {
      "cell_type": "code",
      "metadata": {
        "colab": {
          "base_uri": "https://localhost:8080/"
        },
        "id": "7rlBagUMjOL3",
        "outputId": "3c803fbd-154d-46a0-ed2d-467a53d1390e"
      },
      "source": [
        "# here an example how to only get test values (you need your calculated residuals and the X variables - your exogenous vars. for that)\n",
        "import statsmodels.stats.api as sms\n",
        "sms.het_breuschpagan(resids_1, X_1)"
      ],
      "execution_count": 73,
      "outputs": [
        {
          "output_type": "execute_result",
          "data": {
            "text/plain": [
              "(35.38851292260947,\n",
              " 0.0007377682990715767,\n",
              " 2.7251096453229704,\n",
              " 0.0007335121440669104)"
            ]
          },
          "metadata": {},
          "execution_count": 73
        }
      ]
    },
    {
      "cell_type": "code",
      "metadata": {
        "colab": {
          "base_uri": "https://localhost:8080/",
          "height": 175
        },
        "id": "vHK7Fq1MhHAN",
        "outputId": "3f62b727-a975-4b9b-8467-0780c15f7bd9"
      },
      "source": [
        "# we can put it all into a DataFrame for better display\n",
        "bp_test = pd.DataFrame(sms.het_breuschpagan(resids_1, X_1), \n",
        "                           columns=['value'],\n",
        "                           index=['Lagrange multiplier statistic', 'p-value', 'f-value', 'f p-value'])\n",
        "\n",
        "bp_test"
      ],
      "execution_count": 74,
      "outputs": [
        {
          "output_type": "execute_result",
          "data": {
            "text/html": [
              "<div>\n",
              "<style scoped>\n",
              "    .dataframe tbody tr th:only-of-type {\n",
              "        vertical-align: middle;\n",
              "    }\n",
              "\n",
              "    .dataframe tbody tr th {\n",
              "        vertical-align: top;\n",
              "    }\n",
              "\n",
              "    .dataframe thead th {\n",
              "        text-align: right;\n",
              "    }\n",
              "</style>\n",
              "<table border=\"1\" class=\"dataframe\">\n",
              "  <thead>\n",
              "    <tr style=\"text-align: right;\">\n",
              "      <th></th>\n",
              "      <th>value</th>\n",
              "    </tr>\n",
              "  </thead>\n",
              "  <tbody>\n",
              "    <tr>\n",
              "      <th>Lagrange multiplier statistic</th>\n",
              "      <td>35.388513</td>\n",
              "    </tr>\n",
              "    <tr>\n",
              "      <th>p-value</th>\n",
              "      <td>0.000738</td>\n",
              "    </tr>\n",
              "    <tr>\n",
              "      <th>f-value</th>\n",
              "      <td>2.725110</td>\n",
              "    </tr>\n",
              "    <tr>\n",
              "      <th>f p-value</th>\n",
              "      <td>0.000734</td>\n",
              "    </tr>\n",
              "  </tbody>\n",
              "</table>\n",
              "</div>"
            ],
            "text/plain": [
              "                                   value\n",
              "Lagrange multiplier statistic  35.388513\n",
              "p-value                         0.000738\n",
              "f-value                         2.725110\n",
              "f p-value                       0.000734"
            ]
          },
          "metadata": {},
          "execution_count": 74
        }
      ]
    },
    {
      "cell_type": "markdown",
      "metadata": {
        "id": "havGqzlnjzU3"
      },
      "source": [
        "## getting several regression models ready for your report"
      ]
    },
    {
      "cell_type": "code",
      "metadata": {
        "id": "aetUcvLojZvg"
      },
      "source": [
        "!pip install stargazer -q"
      ],
      "execution_count": 75,
      "outputs": []
    },
    {
      "cell_type": "code",
      "metadata": {
        "id": "pwlBwkdqkiVe"
      },
      "source": [
        "from stargazer.stargazer import Stargazer"
      ],
      "execution_count": 76,
      "outputs": []
    },
    {
      "cell_type": "code",
      "metadata": {
        "id": "FkIECQ_dj7SP"
      },
      "source": [
        "# let's fit a model without the variable \"edu\" \n",
        "X_0 = pd.concat([df_sample[['qob', 'black', 'married', 'smsa']], region], axis=1)\n",
        "X_0 = sm.add_constant(X_0)"
      ],
      "execution_count": 77,
      "outputs": []
    },
    {
      "cell_type": "code",
      "metadata": {
        "id": "KGcEZqDdkMTS"
      },
      "source": [
        "model_0 = sm.OLS(y_1, X_0)"
      ],
      "execution_count": 78,
      "outputs": []
    },
    {
      "cell_type": "code",
      "metadata": {
        "id": "2HRsWwblkR8i"
      },
      "source": [
        "model_0_res = model_0.fit()"
      ],
      "execution_count": 79,
      "outputs": []
    },
    {
      "cell_type": "code",
      "metadata": {
        "colab": {
          "base_uri": "https://localhost:8080/",
          "height": 686
        },
        "id": "TiB_vVHUkTrL",
        "outputId": "e58ab153-f4d2-4baf-d4ae-ae8d8ff1c733"
      },
      "source": [
        "model_0_res.summary()"
      ],
      "execution_count": 80,
      "outputs": [
        {
          "output_type": "execute_result",
          "data": {
            "text/html": [
              "<table class=\"simpletable\">\n",
              "<caption>OLS Regression Results</caption>\n",
              "<tr>\n",
              "  <th>Dep. Variable:</th>         <td>logwage</td>     <th>  R-squared:         </th> <td>   0.074</td> \n",
              "</tr>\n",
              "<tr>\n",
              "  <th>Model:</th>                   <td>OLS</td>       <th>  Adj. R-squared:    </th> <td>   0.074</td> \n",
              "</tr>\n",
              "<tr>\n",
              "  <th>Method:</th>             <td>Least Squares</td>  <th>  F-statistic:       </th> <td>   133.5</td> \n",
              "</tr>\n",
              "<tr>\n",
              "  <th>Date:</th>             <td>Mon, 29 Nov 2021</td> <th>  Prob (F-statistic):</th> <td>3.46e-323</td>\n",
              "</tr>\n",
              "<tr>\n",
              "  <th>Time:</th>                 <td>11:07:07</td>     <th>  Log-Likelihood:    </th> <td> -19641.</td> \n",
              "</tr>\n",
              "<tr>\n",
              "  <th>No. Observations:</th>      <td> 20000</td>      <th>  AIC:               </th> <td>3.931e+04</td>\n",
              "</tr>\n",
              "<tr>\n",
              "  <th>Df Residuals:</th>          <td> 19987</td>      <th>  BIC:               </th> <td>3.941e+04</td>\n",
              "</tr>\n",
              "<tr>\n",
              "  <th>Df Model:</th>              <td>    12</td>      <th>                     </th>     <td> </td>    \n",
              "</tr>\n",
              "<tr>\n",
              "  <th>Covariance Type:</th>      <td>nonrobust</td>    <th>                     </th>     <td> </td>    \n",
              "</tr>\n",
              "</table>\n",
              "<table class=\"simpletable\">\n",
              "<tr>\n",
              "      <td></td>        <th>coef</th>     <th>std err</th>      <th>t</th>      <th>P>|t|</th>  <th>[0.025</th>    <th>0.975]</th>  \n",
              "</tr>\n",
              "<tr>\n",
              "  <th>const</th>    <td>    5.6613</td> <td>    0.023</td> <td>  248.112</td> <td> 0.000</td> <td>    5.617</td> <td>    5.706</td>\n",
              "</tr>\n",
              "<tr>\n",
              "  <th>qob</th>      <td>   -0.0003</td> <td>    0.004</td> <td>   -0.069</td> <td> 0.945</td> <td>   -0.008</td> <td>    0.008</td>\n",
              "</tr>\n",
              "<tr>\n",
              "  <th>black</th>    <td>   -0.3374</td> <td>    0.017</td> <td>  -20.018</td> <td> 0.000</td> <td>   -0.370</td> <td>   -0.304</td>\n",
              "</tr>\n",
              "<tr>\n",
              "  <th>married</th>  <td>    0.2312</td> <td>    0.013</td> <td>   17.377</td> <td> 0.000</td> <td>    0.205</td> <td>    0.257</td>\n",
              "</tr>\n",
              "<tr>\n",
              "  <th>smsa</th>     <td>    0.2376</td> <td>    0.012</td> <td>   19.718</td> <td> 0.000</td> <td>    0.214</td> <td>    0.261</td>\n",
              "</tr>\n",
              "<tr>\n",
              "  <th>region_1</th> <td>   -0.0564</td> <td>    0.017</td> <td>   -3.405</td> <td> 0.001</td> <td>   -0.089</td> <td>   -0.024</td>\n",
              "</tr>\n",
              "<tr>\n",
              "  <th>region_2</th> <td>   -0.2912</td> <td>    0.022</td> <td>  -13.212</td> <td> 0.000</td> <td>   -0.334</td> <td>   -0.248</td>\n",
              "</tr>\n",
              "<tr>\n",
              "  <th>region_3</th> <td>   -0.0966</td> <td>    0.017</td> <td>   -5.583</td> <td> 0.000</td> <td>   -0.131</td> <td>   -0.063</td>\n",
              "</tr>\n",
              "<tr>\n",
              "  <th>region_4</th> <td>   -0.1475</td> <td>    0.025</td> <td>   -5.886</td> <td> 0.000</td> <td>   -0.197</td> <td>   -0.098</td>\n",
              "</tr>\n",
              "<tr>\n",
              "  <th>region_5</th> <td>   -0.1669</td> <td>    0.024</td> <td>   -7.092</td> <td> 0.000</td> <td>   -0.213</td> <td>   -0.121</td>\n",
              "</tr>\n",
              "<tr>\n",
              "  <th>region_6</th> <td>   -0.2204</td> <td>    0.017</td> <td>  -12.789</td> <td> 0.000</td> <td>   -0.254</td> <td>   -0.187</td>\n",
              "</tr>\n",
              "<tr>\n",
              "  <th>region_7</th> <td>   -0.1694</td> <td>    0.021</td> <td>   -8.087</td> <td> 0.000</td> <td>   -0.210</td> <td>   -0.128</td>\n",
              "</tr>\n",
              "<tr>\n",
              "  <th>region_8</th> <td>   -0.1480</td> <td>    0.020</td> <td>   -7.522</td> <td> 0.000</td> <td>   -0.187</td> <td>   -0.109</td>\n",
              "</tr>\n",
              "</table>\n",
              "<table class=\"simpletable\">\n",
              "<tr>\n",
              "  <th>Omnibus:</th>       <td>10731.978</td> <th>  Durbin-Watson:     </th>  <td>   2.007</td> \n",
              "</tr>\n",
              "<tr>\n",
              "  <th>Prob(Omnibus):</th>  <td> 0.000</td>   <th>  Jarque-Bera (JB):  </th> <td>214277.493</td>\n",
              "</tr>\n",
              "<tr>\n",
              "  <th>Skew:</th>           <td>-2.145</td>   <th>  Prob(JB):          </th>  <td>    0.00</td> \n",
              "</tr>\n",
              "<tr>\n",
              "  <th>Kurtosis:</th>       <td>18.451</td>   <th>  Cond. No.          </th>  <td>    29.3</td> \n",
              "</tr>\n",
              "</table><br/><br/>Warnings:<br/>[1] Standard Errors assume that the covariance matrix of the errors is correctly specified."
            ],
            "text/plain": [
              "<class 'statsmodels.iolib.summary.Summary'>\n",
              "\"\"\"\n",
              "                            OLS Regression Results                            \n",
              "==============================================================================\n",
              "Dep. Variable:                logwage   R-squared:                       0.074\n",
              "Model:                            OLS   Adj. R-squared:                  0.074\n",
              "Method:                 Least Squares   F-statistic:                     133.5\n",
              "Date:                Mon, 29 Nov 2021   Prob (F-statistic):          3.46e-323\n",
              "Time:                        11:07:07   Log-Likelihood:                -19641.\n",
              "No. Observations:               20000   AIC:                         3.931e+04\n",
              "Df Residuals:                   19987   BIC:                         3.941e+04\n",
              "Df Model:                          12                                         \n",
              "Covariance Type:            nonrobust                                         \n",
              "==============================================================================\n",
              "                 coef    std err          t      P>|t|      [0.025      0.975]\n",
              "------------------------------------------------------------------------------\n",
              "const          5.6613      0.023    248.112      0.000       5.617       5.706\n",
              "qob           -0.0003      0.004     -0.069      0.945      -0.008       0.008\n",
              "black         -0.3374      0.017    -20.018      0.000      -0.370      -0.304\n",
              "married        0.2312      0.013     17.377      0.000       0.205       0.257\n",
              "smsa           0.2376      0.012     19.718      0.000       0.214       0.261\n",
              "region_1      -0.0564      0.017     -3.405      0.001      -0.089      -0.024\n",
              "region_2      -0.2912      0.022    -13.212      0.000      -0.334      -0.248\n",
              "region_3      -0.0966      0.017     -5.583      0.000      -0.131      -0.063\n",
              "region_4      -0.1475      0.025     -5.886      0.000      -0.197      -0.098\n",
              "region_5      -0.1669      0.024     -7.092      0.000      -0.213      -0.121\n",
              "region_6      -0.2204      0.017    -12.789      0.000      -0.254      -0.187\n",
              "region_7      -0.1694      0.021     -8.087      0.000      -0.210      -0.128\n",
              "region_8      -0.1480      0.020     -7.522      0.000      -0.187      -0.109\n",
              "==============================================================================\n",
              "Omnibus:                    10731.978   Durbin-Watson:                   2.007\n",
              "Prob(Omnibus):                  0.000   Jarque-Bera (JB):           214277.493\n",
              "Skew:                          -2.145   Prob(JB):                         0.00\n",
              "Kurtosis:                      18.451   Cond. No.                         29.3\n",
              "==============================================================================\n",
              "\n",
              "Warnings:\n",
              "[1] Standard Errors assume that the covariance matrix of the errors is correctly specified.\n",
              "\"\"\""
            ]
          },
          "metadata": {},
          "execution_count": 80
        }
      ]
    },
    {
      "cell_type": "code",
      "metadata": {
        "id": "yGqoCa7BjyLN"
      },
      "source": [
        "model_overview = Stargazer([model_0_res, model_1_res])"
      ],
      "execution_count": 81,
      "outputs": []
    },
    {
      "cell_type": "code",
      "metadata": {
        "colab": {
          "base_uri": "https://localhost:8080/",
          "height": 859
        },
        "id": "fwYvAphtke7Z",
        "outputId": "da59a53d-96f6-4151-8ed3-31f23007929a"
      },
      "source": [
        "model_overview"
      ],
      "execution_count": 82,
      "outputs": [
        {
          "output_type": "execute_result",
          "data": {
            "text/html": [
              "<table style=\"text-align:center\"><tr><td colspan=\"3\" style=\"border-bottom: 1px solid black\"></td></tr><tr><td style=\"text-align:left\"></td><td colspan=\"2\"><em>Dependent variable:logwage</em></td></tr><tr><td style=\"text-align:left\"></td><tr><td style=\"text-align:left\"></td><td>(1)</td><td>(2)</td></tr><tr><td colspan=\"3\" style=\"border-bottom: 1px solid black\"></td></tr><tr><td style=\"text-align:left\">black</td><td>-0.337<sup>***</sup></td><td>-0.238<sup>***</sup></td></tr><tr><td style=\"text-align:left\"></td><td>(0.017)</td><td>(0.016)</td></tr><tr><td style=\"text-align:left\">const</td><td>5.661<sup>***</sup></td><td>4.840<sup>***</sup></td></tr><tr><td style=\"text-align:left\"></td><td>(0.023)</td><td>(0.028)</td></tr><tr><td style=\"text-align:left\">edu</td><td></td><td>0.064<sup>***</sup></td></tr><tr><td style=\"text-align:left\"></td><td></td><td>(0.001)</td></tr><tr><td style=\"text-align:left\">married</td><td>0.231<sup>***</sup></td><td>0.216<sup>***</sup></td></tr><tr><td style=\"text-align:left\"></td><td>(0.013)</td><td>(0.013)</td></tr><tr><td style=\"text-align:left\">qob</td><td>-0.000<sup></sup></td><td>-0.001<sup></sup></td></tr><tr><td style=\"text-align:left\"></td><td>(0.004)</td><td>(0.004)</td></tr><tr><td style=\"text-align:left\">region_1</td><td>-0.056<sup>***</sup></td><td>0.015<sup></sup></td></tr><tr><td style=\"text-align:left\"></td><td>(0.017)</td><td>(0.016)</td></tr><tr><td style=\"text-align:left\">region_2</td><td>-0.291<sup>***</sup></td><td>-0.175<sup>***</sup></td></tr><tr><td style=\"text-align:left\"></td><td>(0.022)</td><td>(0.021)</td></tr><tr><td style=\"text-align:left\">region_3</td><td>-0.097<sup>***</sup></td><td>-0.051<sup>***</sup></td></tr><tr><td style=\"text-align:left\"></td><td>(0.017)</td><td>(0.016)</td></tr><tr><td style=\"text-align:left\">region_4</td><td>-0.147<sup>***</sup></td><td>-0.135<sup>***</sup></td></tr><tr><td style=\"text-align:left\"></td><td>(0.025)</td><td>(0.024)</td></tr><tr><td style=\"text-align:left\">region_5</td><td>-0.167<sup>***</sup></td><td>-0.126<sup>***</sup></td></tr><tr><td style=\"text-align:left\"></td><td>(0.024)</td><td>(0.022)</td></tr><tr><td style=\"text-align:left\">region_6</td><td>-0.220<sup>***</sup></td><td>-0.148<sup>***</sup></td></tr><tr><td style=\"text-align:left\"></td><td>(0.017)</td><td>(0.016)</td></tr><tr><td style=\"text-align:left\">region_7</td><td>-0.169<sup>***</sup></td><td>-0.119<sup>***</sup></td></tr><tr><td style=\"text-align:left\"></td><td>(0.021)</td><td>(0.020)</td></tr><tr><td style=\"text-align:left\">region_8</td><td>-0.148<sup>***</sup></td><td>-0.086<sup>***</sup></td></tr><tr><td style=\"text-align:left\"></td><td>(0.020)</td><td>(0.019)</td></tr><tr><td style=\"text-align:left\">smsa</td><td>0.238<sup>***</sup></td><td>0.179<sup>***</sup></td></tr><tr><td style=\"text-align:left\"></td><td>(0.012)</td><td>(0.011)</td></tr><td colspan=\"3\" style=\"border-bottom: 1px solid black\"></td></tr><tr><td style=\"text-align: left\">Observations</td><td>20,000</td><td>20,000</td></tr><tr><td style=\"text-align: left\">R<sup>2</sup></td><td>0.074</td><td>0.168</td></tr><tr><td style=\"text-align: left\">Adjusted R<sup>2</sup></td><td>0.074</td><td>0.168</td></tr><tr><td style=\"text-align: left\">Residual Std. Error</td><td>0.646 (df=19987)</td><td>0.613 (df=19986)</td></tr><tr><td style=\"text-align: left\">F Statistic</td><td>133.537<sup>***</sup> (df=12; 19987)</td><td>311.269<sup>***</sup> (df=13; 19986)</td></tr><tr><td colspan=\"3\" style=\"border-bottom: 1px solid black\"></td></tr><tr><td style=\"text-align: left\">Note:</td>\n",
              " <td colspan=\"2\" style=\"text-align: right\">\n",
              "  <sup>*</sup>p&lt;0.1;\n",
              "  <sup>**</sup>p&lt;0.05;\n",
              "  <sup>***</sup>p&lt;0.01\n",
              " </td></tr></table>"
            ],
            "text/plain": [
              "<stargazer.stargazer.Stargazer at 0x7fe739956c90>"
            ]
          },
          "metadata": {},
          "execution_count": 82
        }
      ]
    },
    {
      "cell_type": "code",
      "metadata": {
        "id": "uSVbkm8bljle"
      },
      "source": [
        "from IPython.display import display, Math, Latex"
      ],
      "execution_count": null,
      "outputs": []
    },
    {
      "cell_type": "code",
      "metadata": {
        "id": "TrS5IOPnmjCF"
      },
      "source": [
        "model_overview.render_latex()"
      ],
      "execution_count": null,
      "outputs": []
    }
  ]
}